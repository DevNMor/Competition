{
 "cells": [
  {
   "cell_type": "code",
   "execution_count": 1,
   "id": "088b93d5",
   "metadata": {},
   "outputs": [],
   "source": [
    "from nltk.corpus import stopwords\n",
    "from nltk.stem import WordNetLemmatizer\n",
    "import nltk\n",
    "import re\n",
    "import pandas as pd\n",
    "import numpy as np\n",
    "import string\n",
    "import time\n",
    "import math\n",
    "import torch\n",
    "import torch.nn as nn\n",
    "from torch.autograd import Variable\n",
    "from torch.utils.data import DataLoader, random_split, Dataset\n",
    "from matplotlib import pyplot as plt\n",
    "from sklearn.metrics import classification_report\n",
    "from sklearn.model_selection import train_test_split\n",
    "from transformers import AutoConfig, AutoModel, AutoTokenizer, AutoModelForSequenceClassification"
   ]
  },
  {
   "cell_type": "code",
   "execution_count": 2,
   "id": "01147e27",
   "metadata": {},
   "outputs": [
    {
     "name": "stderr",
     "output_type": "stream",
     "text": [
      "Some weights of the model checkpoint at bert-base-uncased were not used when initializing BertModel: ['cls.predictions.transform.LayerNorm.weight', 'cls.predictions.transform.dense.weight', 'cls.seq_relationship.weight', 'cls.predictions.decoder.weight', 'cls.predictions.transform.dense.bias', 'cls.seq_relationship.bias', 'cls.predictions.transform.LayerNorm.bias', 'cls.predictions.bias']\n",
      "- This IS expected if you are initializing BertModel from the checkpoint of a model trained on another task or with another architecture (e.g. initializing a BertForSequenceClassification model from a BertForPreTraining model).\n",
      "- This IS NOT expected if you are initializing BertModel from the checkpoint of a model that you expect to be exactly identical (initializing a BertForSequenceClassification model from a BertForSequenceClassification model).\n"
     ]
    }
   ],
   "source": [
    "train = pd.read_pickle('Preprocessing_Train.pkl')\n",
    "stop_words = stopwords.words('english')\n",
    "tokenizer = AutoTokenizer.from_pretrained(\"bert-base-uncased\")\n",
    "bert_model = AutoModel.from_pretrained(\n",
    "    \"bert-base-uncased\",\n",
    "    output_attentions = False, # Whether the model returns attentions weights.\n",
    "    output_hidden_states = True, # Whether the model returns all hidden-states.       \n",
    "    )\n",
    "\n",
    "def bert_tokenize(doc, tokenizer=tokenizer):\n",
    "    \n",
    "    tokens = re.split(r'\\s', doc.lower())\n",
    "    tokens = [i for i in tokens if i not in stop_words]\n",
    "    tokens = [i for i in tokens if len(re.findall(r'\\w', i)) >= 2]\n",
    "    tokens = [re.findall(r\"\\w[a-zA-Z0-9.-]*\\w\", i)[0] for i in tokens if re.findall(r\"\\w[a-zA-Z0-9.-]*\\w\", i)]\n",
    "    result = []\n",
    "    for i in tokens:\n",
    "        result += tokenizer.convert_tokens_to_ids(tokenizer.tokenize(i))\n",
    "        \n",
    "    return result"
   ]
  },
  {
   "cell_type": "code",
   "execution_count": 3,
   "id": "a66e7650",
   "metadata": {},
   "outputs": [],
   "source": [
    "X = train.document_text.apply(bert_tokenize)"
   ]
  },
  {
   "cell_type": "code",
   "execution_count": 4,
   "id": "15fb50c4",
   "metadata": {},
   "outputs": [],
   "source": [
    "X_train, X_test, y_train, y_test = train_test_split(X, train.label, test_size=0.25)"
   ]
  },
  {
   "cell_type": "code",
   "execution_count": 5,
   "id": "6ba50949",
   "metadata": {},
   "outputs": [],
   "source": [
    "## Create a Pytorch Dataset class to convert data to tensors\n",
    "## Each token index list is set to the same length, 1024 by default\n",
    "## The shorter one would be padded with 0, and the longer one would be truncated\n",
    "\n",
    "class dataset_(Dataset):\n",
    "    \n",
    "    def __init__(self, X, y, max_len=1200):\n",
    "        super(dataset_, self).__init__()\n",
    "        pad = [i[:max_len] + [0]*(max_len-len(i[:max_len])) for i in X]\n",
    "        self.X = torch.tensor(pad, dtype=torch.int32)\n",
    "        self.y = torch.Tensor(np.array(list(y)))\n",
    "        \n",
    "    def __getitem__(self, idx):\n",
    "        return self.X[idx], self.y[idx]\n",
    "    \n",
    "    def __len__(self):\n",
    "        return len(self.X)\n",
    "    \n",
    "    \n",
    "train_ = dataset_(X_train, y_train)\n",
    "test_ = dataset_(X_test, y_test)"
   ]
  },
  {
   "cell_type": "code",
   "execution_count": 6,
   "id": "52236990",
   "metadata": {},
   "outputs": [],
   "source": [
    "pretrained_layer = bert_model.get_input_embeddings()\n",
    "\n",
    "for param in pretrained_layer.parameters():\n",
    "    param.requires_grad=False\n",
    "\n",
    "# class PE(nn.Module): \n",
    "\n",
    "#     def __init__(self, dim_emb=256, dropout=0.5, max_len=1024): \n",
    "#         super(PE, self).__init__() \n",
    "#         self.dropout = nn.Dropout(dropout) \n",
    "#         pe = torch.zeros(max_len, dim_emb) \n",
    "#         position = torch.arange(0, max_len).unsqueeze(1) \n",
    "#         div_term = torch.exp(-math.log(10000) * torch.arange(0, dim_emb, 2)/dim_emb)\n",
    "#         pe[:, 0::2] = torch.sin(position * div_term)\n",
    "#         pe[:, 1::2] = torch.cos(position * div_term) \n",
    "#         pe = pe.unsqueeze(0) \n",
    "#         self.register_buffer('pe', pe) \n",
    "        \n",
    "#     def forward(self, x): \n",
    "#         x = x + Variable(self.pe[:, :], requires_grad=False) \n",
    "#         return self.dropout(x) \n",
    "\n",
    "    \n",
    "class Att(nn.Module):\n",
    "    \n",
    "    def __init__(self, dim_emb=512):\n",
    "        super(Att, self).__init__()\n",
    "        self.Wq = nn.Linear(dim_emb, 50, bias=False)\n",
    "        self.Wk = nn.Linear(768, dim_emb, bias=False)\n",
    "        self.Wv = nn.Linear(768, dim_emb, bias=False)\n",
    "\n",
    "    def forward(self, x): ## (1200, 768)\n",
    "        K = self.Wk(x) ## (1200, dim_emb)\n",
    "        V = self.Wv(x)\n",
    "        temp = self.Wq(K) ## (1200, 50)\n",
    "        score = temp.transpose(-2, -1) / math.sqrt(K.size(-1)) ## (50, 1200)\n",
    "        return torch.matmul(nn.Softmax(dim=-1)(score), V)\n",
    "    \n",
    "    \n",
    "class LN(nn.Module):\n",
    "    \n",
    "    def __init__(self, dim_emb=512):\n",
    "        super(LN, self).__init__()\n",
    "        self.feed = nn.LayerNorm(dim_emb)\n",
    "\n",
    "    def forward(self, x):\n",
    "        return x + self.feed(x)\n",
    "\n",
    "\n",
    "class final_model(nn.Module):\n",
    "    \n",
    "    def __init__(self, dim_emb=512, dropout=0.3):\n",
    "        super(final_model, self).__init__()\n",
    "        self.net = nn.Sequential(\n",
    "            pretrained_layer,\n",
    "            # PE(dim_emb, dropout, max_len),  ## (1200, 768)\n",
    "            # nn.Dropout(dropout),\n",
    "            Att(dim_emb),  ## (50, dim_emb)\n",
    "            LN(dim_emb),\n",
    "            nn.Linear(dim_emb, 256),\n",
    "            nn.ReLU(),\n",
    "            nn.Linear(256, 128),\n",
    "            nn.ReLU(),\n",
    "            nn.Linear(128, 1),\n",
    "            nn.Sigmoid())\n",
    "            \n",
    "    def forward(self, x):\n",
    "        return self.net(x)"
   ]
  },
  {
   "cell_type": "code",
   "execution_count": 7,
   "id": "ceb4104e",
   "metadata": {},
   "outputs": [],
   "source": [
    "def train_model(model, train_dataset, eval_dataset, device, norm=0.5,\n",
    "                lr=0.0005, epochs=50, batch_size=256):\n",
    "    \n",
    "    history = {'train_loss': [], 'eval_loss': []}\n",
    "    \n",
    "    train_loader = DataLoader(train_dataset, batch_size=batch_size, shuffle=True)\n",
    "    eval_loader = DataLoader(eval_dataset, batch_size=512)\n",
    "\n",
    "    model = model.to(device)\n",
    "    if norm:\n",
    "        Loss = nn.BCELoss(weight=train_.y.sum(axis=0)**-norm).to(device)\n",
    "    else:\n",
    "        Loss = nn.BCELoss().to(device)\n",
    "    op = torch.optim.Adam(model.parameters(), lr=lr)\n",
    "    \n",
    "    print('Training start!')\n",
    "    start = time.time()\n",
    "    \n",
    "    for epoch in range(epochs):\n",
    "        \n",
    "        model.train()\n",
    "        train_loss = 0\n",
    "        eval_loss = 0\n",
    "        pred = []\n",
    "        real = []\n",
    "        \n",
    "        for X, y in train_loader:\n",
    "            X = X.to(device)\n",
    "            y = y.to(device)\n",
    "            out = model(X).squeeze(-1)\n",
    "            loss = Loss(out, y)\n",
    "            \n",
    "            op.zero_grad()\n",
    "            loss.backward()\n",
    "            op.step()\n",
    "            \n",
    "            train_loss += loss\n",
    "            \n",
    "        model.eval()\n",
    "        with torch.no_grad():\n",
    "            for X, y in eval_loader:\n",
    "                X = X.to(device)\n",
    "                y = y.to(device)\n",
    "                out = model(X).squeeze(-1)\n",
    "                loss = Loss(out, y)\n",
    "                eval_loss += loss\n",
    "                pred.append(out.cpu())\n",
    "                real.append(y.cpu())\n",
    "                \n",
    "        train_loss = (train_loss/len(train_loader)).item()\n",
    "        eval_loss = (eval_loss/len(eval_loader)).item() \n",
    "        \n",
    "        history['train_loss'].append(train_loss)\n",
    "        history['eval_loss'].append(eval_loss)  \n",
    "        \n",
    "        if not (epoch+1)%50:\n",
    "            res = torch.cat(pred)\n",
    "            tru = torch.cat(real)\n",
    "            print(f'\\nepoch {epoch+1}:\\n')\n",
    "            print(classification_report(tru.view(-1), np.round(res).view(-1)))\n",
    "            print(f'\\nSpent time: {time.time()-start} seconds')\n",
    "            \n",
    "        \n",
    "    print('Training complete!')\n",
    "    \n",
    "    \n",
    "    return history"
   ]
  },
  {
   "cell_type": "code",
   "execution_count": 8,
   "id": "2370fa33",
   "metadata": {
    "scrolled": true
   },
   "outputs": [
    {
     "name": "stdout",
     "output_type": "stream",
     "text": [
      "Training start!\n",
      "\n",
      "epoch 50:\n",
      "\n",
      "              precision    recall  f1-score   support\n",
      "\n",
      "         0.0       0.93      0.99      0.96    111637\n",
      "         1.0       0.73      0.26      0.38     11613\n",
      "\n",
      "    accuracy                           0.92    123250\n",
      "   macro avg       0.83      0.62      0.67    123250\n",
      "weighted avg       0.91      0.92      0.90    123250\n",
      "\n",
      "\n",
      "Spent time: 138.9654188156128 seconds\n",
      "\n",
      "epoch 100:\n",
      "\n",
      "              precision    recall  f1-score   support\n",
      "\n",
      "         0.0       0.95      0.99      0.97    111637\n",
      "         1.0       0.78      0.51      0.61     11613\n",
      "\n",
      "    accuracy                           0.94    123250\n",
      "   macro avg       0.87      0.75      0.79    123250\n",
      "weighted avg       0.93      0.94      0.93    123250\n",
      "\n",
      "\n",
      "Spent time: 275.6994047164917 seconds\n",
      "\n",
      "epoch 150:\n",
      "\n",
      "              precision    recall  f1-score   support\n",
      "\n",
      "         0.0       0.96      0.98      0.97    111637\n",
      "         1.0       0.77      0.61      0.68     11613\n",
      "\n",
      "    accuracy                           0.95    123250\n",
      "   macro avg       0.86      0.79      0.82    123250\n",
      "weighted avg       0.94      0.95      0.94    123250\n",
      "\n",
      "\n",
      "Spent time: 413.03046226501465 seconds\n",
      "Training complete!\n"
     ]
    }
   ],
   "source": [
    "mod = final_model(dim_emb=384)\n",
    "device = torch.device(\"cuda\" if torch.cuda.is_available() else \"cpu\")\n",
    "norm = None\n",
    "epochs = 150\n",
    "lr = 0.00027\n",
    "batch_size = 128\n",
    "# weight_decay = 0.0003\n",
    "hist = train_model(mod, train_, test_, device, norm,\n",
    "                lr=lr, epochs=epochs, batch_size=batch_size)"
   ]
  },
  {
   "cell_type": "code",
   "execution_count": null,
   "id": "f77d10b2",
   "metadata": {},
   "outputs": [],
   "source": []
  },
  {
   "cell_type": "code",
   "execution_count": 9,
   "id": "4f00df56",
   "metadata": {},
   "outputs": [
    {
     "data": {
      "image/png": "[encoded data removed]",
      "text/plain": [
       "<Figure size 432x288 with 1 Axes>"
      ]
     },
     "metadata": {
      "needs_background": "light"
     },
     "output_type": "display_data"
    }
   ],
   "source": [
    "plt.title('Train Loss')\n",
    "plt.xlabel('Epochs')\n",
    "plt.ylabel('Loss')\n",
    "plt.plot(hist['train_loss']);"
   ]
  },
  {
   "cell_type": "code",
   "execution_count": 10,
   "id": "c4e40bf6",
   "metadata": {},
   "outputs": [
    {
     "data": {
      "image/png": "[encoded data removed]",
      "text/plain": [
       "<Figure size 432x288 with 1 Axes>"
      ]
     },
     "metadata": {
      "needs_background": "light"
     },
     "output_type": "display_data"
    }
   ],
   "source": [
    "plt.title('Evaluation Loss')\n",
    "plt.xlabel('Epochs')\n",
    "plt.ylabel('Loss')\n",
    "plt.plot(hist['eval_loss']);"
   ]
  },
  {
   "cell_type": "code",
   "execution_count": 25,
   "id": "af7fe4b9",
   "metadata": {},
   "outputs": [
    {
     "name": "stdout",
     "output_type": "stream",
     "text": [
      "0.9491845965385437\n",
      "              precision    recall  f1-score   support\n",
      "\n",
      "         0.0       0.97      0.97      0.97    111482\n",
      "         1.0       0.74      0.73      0.73     11768\n",
      "\n",
      "    accuracy                           0.95    123250\n",
      "   macro avg       0.85      0.85      0.85    123250\n",
      "weighted avg       0.95      0.95      0.95    123250\n",
      "\n"
     ]
    }
   ],
   "source": [
    "with torch.no_grad():\n",
    "    res = mod.cpu()(test_.X).squeeze(-1)\n",
    "\n",
    "acc = (test_.y.view(-1) == np.round(res).view(-1)).float().mean().item()\n",
    "print(acc)\n",
    "\n",
    "print(classification_report(test_.y.view(-1), np.round(res).view(-1)))"
   ]
  },
  {
   "cell_type": "code",
   "execution_count": 8,
   "id": "8671147e",
   "metadata": {
    "scrolled": true
   },
   "outputs": [],
   "source": [
    "tst = pd.read_csv('datasolve-us/test.csv')\n",
    "\n",
    "t = tst.apply(lambda x: x['name']+' '+x['document_text'], axis=1)\n",
    "\n",
    "_, tk = get_voc_new(t, False, True)\n",
    "\n",
    "tk = word2idx(tk)\n",
    "pad_t = [i[:896] + [0]*(896-len(i[:896])) for i in tk]\n",
    "t_ = torch.tensor(pad_t, dtype=torch.int32)"
   ]
  },
  {
   "cell_type": "code",
   "execution_count": 10,
   "id": "93b990e9",
   "metadata": {},
   "outputs": [],
   "source": [
    "with torch.no_grad():\n",
    "    pd.DataFrame(np.round(mod(t_).squeeze(-1)).view(-1)).to_csv('try_2.csv')"
   ]
  },
  {
   "cell_type": "code",
   "execution_count": 100,
   "id": "3267c0e5",
   "metadata": {},
   "outputs": [],
   "source": [
    "# torch.save(mod, 'rd_init_complex.pt')"
   ]
  },
  {
   "cell_type": "code",
   "execution_count": 11,
   "id": "e54353f1",
   "metadata": {},
   "outputs": [],
   "source": [
    "t1 = pd.read_csv('try_1.csv')\n",
    "t2 = pd.read_csv('try_2.csv')"
   ]
  },
  {
   "cell_type": "code",
   "execution_count": 13,
   "id": "749ece8b",
   "metadata": {},
   "outputs": [
    {
     "data": {
      "text/plain": [
       "0         1\n",
       "1         0\n",
       "2         1\n",
       "3         0\n",
       "4         0\n",
       "         ..\n",
       "249645    0\n",
       "249646    0\n",
       "249647    0\n",
       "249648    0\n",
       "249649    0\n",
       "Name: predictions, Length: 249650, dtype: int64"
      ]
     },
     "execution_count": 13,
     "metadata": {},
     "output_type": "execute_result"
    }
   ],
   "source": [
    "t1.predictions"
   ]
  },
  {
   "cell_type": "code",
   "execution_count": 17,
   "id": "6f590048",
   "metadata": {},
   "outputs": [
    {
     "data": {
      "text/plain": [
       "0.9474103745243341"
      ]
     },
     "execution_count": 17,
     "metadata": {},
     "output_type": "execute_result"
    }
   ],
   "source": [
    "(t2['0'] == t1.predictions).mean()"
   ]
  },
  {
   "cell_type": "code",
   "execution_count": null,
   "id": "bf293606",
   "metadata": {},
   "outputs": [],
   "source": []
  }
 ],
 "metadata": {
  "kernelspec": {
   "display_name": "Python 3 (ipykernel)",
   "language": "python",
   "name": "python3"
  },
  "language_info": {
   "codemirror_mode": {
    "name": "ipython",
    "version": 3
   },
   "file_extension": ".py",
   "mimetype": "text/x-python",
   "name": "python",
   "nbconvert_exporter": "python",
   "pygments_lexer": "ipython3",
   "version": "3.9.7"
  }
 },
 "nbformat": 4,
 "nbformat_minor": 5
}
