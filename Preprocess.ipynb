{
 "cells": [
  {
   "cell_type": "markdown",
   "id": "236800f1",
   "metadata": {},
   "source": [
    "## Preprocessing of label"
   ]
  },
  {
   "cell_type": "code",
   "execution_count": 4,
   "id": "f659680c",
   "metadata": {},
   "outputs": [],
   "source": [
    "import pandas as pd\n",
    "import numpy as np"
   ]
  },
  {
   "cell_type": "code",
   "execution_count": 125,
   "id": "3b9e7cbf",
   "metadata": {},
   "outputs": [],
   "source": [
    "# submission = pd.read_csv('datasolve-us/sample_submission.csv')\n",
    "train = pd.read_csv('datasolve-us/train.csv')\n",
    "# test = pd.read_csv('datasolve-us/test.csv')\n",
    "\n",
    "label = np.unique(train.cat_name)\n",
    "\n",
    "train['label_idx'] = train.cat_name.apply(lambda x: [np.where(label==x)[0].item()])\n",
    "train = train.drop('cat_name', axis=1)\n",
    "\n",
    "train = train.groupby(['id', 'name', 'document_text']).sum().reset_index()"
   ]
  },
  {
   "cell_type": "code",
   "execution_count": 144,
   "id": "6f42a387",
   "metadata": {},
   "outputs": [],
   "source": [
    "train['label'] = None\n",
    "train['label'] = train['label'].apply(lambda x: np.zeros(50))\n",
    "for i in range(len(train)):\n",
    "    train.iloc[i, -1][train['label_idx'][i]] = 1"
   ]
  },
  {
   "cell_type": "code",
   "execution_count": 146,
   "id": "212e07f6",
   "metadata": {},
   "outputs": [],
   "source": [
    "# train.to_pickle('Preprocessing_Train.pkl')"
   ]
  },
  {
   "cell_type": "code",
   "execution_count": 147,
   "id": "8fb6fd00",
   "metadata": {},
   "outputs": [
    {
     "data": {
      "text/html": [
       "<div>\n",
       "<style scoped>\n",
       "    .dataframe tbody tr th:only-of-type {\n",
       "        vertical-align: middle;\n",
       "    }\n",
       "\n",
       "    .dataframe tbody tr th {\n",
       "        vertical-align: top;\n",
       "    }\n",
       "\n",
       "    .dataframe thead th {\n",
       "        text-align: right;\n",
       "    }\n",
       "</style>\n",
       "<table border=\"1\" class=\"dataframe\">\n",
       "  <thead>\n",
       "    <tr style=\"text-align: right;\">\n",
       "      <th></th>\n",
       "      <th>id</th>\n",
       "      <th>name</th>\n",
       "      <th>document_text</th>\n",
       "      <th>label_idx</th>\n",
       "      <th>label</th>\n",
       "    </tr>\n",
       "  </thead>\n",
       "  <tbody>\n",
       "    <tr>\n",
       "      <th>0</th>\n",
       "      <td>4772</td>\n",
       "      <td>Consent Order in the Matter of Solium Financia...</td>\n",
       "      <td>Solium Financial Services LLC (\"SFS\") is a bro...</td>\n",
       "      <td>[25, 10, 24, 22, 23, 5, 3]</td>\n",
       "      <td>[0.0, 0.0, 0.0, 1.0, 0.0, 1.0, 0.0, 0.0, 0.0, ...</td>\n",
       "    </tr>\n",
       "    <tr>\n",
       "      <th>1</th>\n",
       "      <td>4774</td>\n",
       "      <td>Alberta Securities Commission Warns Investors ...</td>\n",
       "      <td>A new year brings new investment opportunities...</td>\n",
       "      <td>[29, 38, 18, 16]</td>\n",
       "      <td>[0.0, 0.0, 0.0, 0.0, 0.0, 0.0, 0.0, 0.0, 0.0, ...</td>\n",
       "    </tr>\n",
       "    <tr>\n",
       "      <th>2</th>\n",
       "      <td>4775</td>\n",
       "      <td>Exempt Market Dealer Agrees to Settlement</td>\n",
       "      <td>The Alberta Securities Commission (ASC) has co...</td>\n",
       "      <td>[47, 49, 25, 46, 3, 22, 5, 13]</td>\n",
       "      <td>[0.0, 0.0, 0.0, 1.0, 0.0, 1.0, 0.0, 0.0, 0.0, ...</td>\n",
       "    </tr>\n",
       "    <tr>\n",
       "      <th>3</th>\n",
       "      <td>4776</td>\n",
       "      <td>Canadian Securities Regulators Announces Consu...</td>\n",
       "      <td>The Canadian Securities Administrators (CSA) p...</td>\n",
       "      <td>[47, 40, 22, 39, 11]</td>\n",
       "      <td>[0.0, 0.0, 0.0, 0.0, 0.0, 0.0, 0.0, 0.0, 0.0, ...</td>\n",
       "    </tr>\n",
       "    <tr>\n",
       "      <th>4</th>\n",
       "      <td>4778</td>\n",
       "      <td>CSA Consultation Paper 51-405 Consideration of...</td>\n",
       "      <td>On April 6, 2017, the Canadian Securities Admi...</td>\n",
       "      <td>[6, 39, 11, 47, 40]</td>\n",
       "      <td>[0.0, 0.0, 0.0, 0.0, 0.0, 0.0, 1.0, 0.0, 0.0, ...</td>\n",
       "    </tr>\n",
       "    <tr>\n",
       "      <th>...</th>\n",
       "      <td>...</td>\n",
       "      <td>...</td>\n",
       "      <td>...</td>\n",
       "      <td>...</td>\n",
       "      <td>...</td>\n",
       "    </tr>\n",
       "    <tr>\n",
       "      <th>9854</th>\n",
       "      <td>57201</td>\n",
       "      <td>What To Do If Youre Having Difficulty Repaying...</td>\n",
       "      <td>Having a good track record when it comes to me...</td>\n",
       "      <td>[16, 6]</td>\n",
       "      <td>[0.0, 0.0, 0.0, 0.0, 0.0, 0.0, 1.0, 0.0, 0.0, ...</td>\n",
       "    </tr>\n",
       "    <tr>\n",
       "      <th>9855</th>\n",
       "      <td>57207</td>\n",
       "      <td>The Bank of Russia Restricted Exchange Trading...</td>\n",
       "      <td>The Bank of Russia has decided, starting from ...</td>\n",
       "      <td>[34, 47, 43, 13, 49, 29, 44, 46, 6]</td>\n",
       "      <td>[0.0, 0.0, 0.0, 0.0, 0.0, 0.0, 1.0, 0.0, 0.0, ...</td>\n",
       "    </tr>\n",
       "    <tr>\n",
       "      <th>9856</th>\n",
       "      <td>57234</td>\n",
       "      <td>Application of a Pecuniary Administrative Sanc...</td>\n",
       "      <td>Consob published application of a pecuniary ad...</td>\n",
       "      <td>[12, 39, 0, 38, 15]</td>\n",
       "      <td>[1.0, 0.0, 0.0, 0.0, 0.0, 0.0, 0.0, 0.0, 0.0, ...</td>\n",
       "    </tr>\n",
       "    <tr>\n",
       "      <th>9857</th>\n",
       "      <td>57240</td>\n",
       "      <td>Investor Consultation - Investor Service Hotli...</td>\n",
       "      <td>On May 31, 2022, Shenzhen Stock Exchange publi...</td>\n",
       "      <td>[44, 8]</td>\n",
       "      <td>[0.0, 0.0, 0.0, 0.0, 0.0, 0.0, 0.0, 0.0, 1.0, ...</td>\n",
       "    </tr>\n",
       "    <tr>\n",
       "      <th>9858</th>\n",
       "      <td>57252</td>\n",
       "      <td>Amendment to Contract Title of the Bursa Malay...</td>\n",
       "      <td>Effective Monday, June 13, 2022, Chicago Merca...</td>\n",
       "      <td>[4, 7]</td>\n",
       "      <td>[0.0, 0.0, 0.0, 0.0, 1.0, 0.0, 0.0, 1.0, 0.0, ...</td>\n",
       "    </tr>\n",
       "  </tbody>\n",
       "</table>\n",
       "<p>9859 rows × 5 columns</p>\n",
       "</div>"
      ],
      "text/plain": [
       "         id                                               name  \\\n",
       "0      4772  Consent Order in the Matter of Solium Financia...   \n",
       "1      4774  Alberta Securities Commission Warns Investors ...   \n",
       "2      4775          Exempt Market Dealer Agrees to Settlement   \n",
       "3      4776  Canadian Securities Regulators Announces Consu...   \n",
       "4      4778  CSA Consultation Paper 51-405 Consideration of...   \n",
       "...     ...                                                ...   \n",
       "9854  57201  What To Do If Youre Having Difficulty Repaying...   \n",
       "9855  57207  The Bank of Russia Restricted Exchange Trading...   \n",
       "9856  57234  Application of a Pecuniary Administrative Sanc...   \n",
       "9857  57240  Investor Consultation - Investor Service Hotli...   \n",
       "9858  57252  Amendment to Contract Title of the Bursa Malay...   \n",
       "\n",
       "                                          document_text  \\\n",
       "0     Solium Financial Services LLC (\"SFS\") is a bro...   \n",
       "1     A new year brings new investment opportunities...   \n",
       "2     The Alberta Securities Commission (ASC) has co...   \n",
       "3     The Canadian Securities Administrators (CSA) p...   \n",
       "4     On April 6, 2017, the Canadian Securities Admi...   \n",
       "...                                                 ...   \n",
       "9854  Having a good track record when it comes to me...   \n",
       "9855  The Bank of Russia has decided, starting from ...   \n",
       "9856  Consob published application of a pecuniary ad...   \n",
       "9857  On May 31, 2022, Shenzhen Stock Exchange publi...   \n",
       "9858  Effective Monday, June 13, 2022, Chicago Merca...   \n",
       "\n",
       "                                label_idx  \\\n",
       "0              [25, 10, 24, 22, 23, 5, 3]   \n",
       "1                        [29, 38, 18, 16]   \n",
       "2          [47, 49, 25, 46, 3, 22, 5, 13]   \n",
       "3                    [47, 40, 22, 39, 11]   \n",
       "4                     [6, 39, 11, 47, 40]   \n",
       "...                                   ...   \n",
       "9854                              [16, 6]   \n",
       "9855  [34, 47, 43, 13, 49, 29, 44, 46, 6]   \n",
       "9856                  [12, 39, 0, 38, 15]   \n",
       "9857                              [44, 8]   \n",
       "9858                               [4, 7]   \n",
       "\n",
       "                                                  label  \n",
       "0     [0.0, 0.0, 0.0, 1.0, 0.0, 1.0, 0.0, 0.0, 0.0, ...  \n",
       "1     [0.0, 0.0, 0.0, 0.0, 0.0, 0.0, 0.0, 0.0, 0.0, ...  \n",
       "2     [0.0, 0.0, 0.0, 1.0, 0.0, 1.0, 0.0, 0.0, 0.0, ...  \n",
       "3     [0.0, 0.0, 0.0, 0.0, 0.0, 0.0, 0.0, 0.0, 0.0, ...  \n",
       "4     [0.0, 0.0, 0.0, 0.0, 0.0, 0.0, 1.0, 0.0, 0.0, ...  \n",
       "...                                                 ...  \n",
       "9854  [0.0, 0.0, 0.0, 0.0, 0.0, 0.0, 1.0, 0.0, 0.0, ...  \n",
       "9855  [0.0, 0.0, 0.0, 0.0, 0.0, 0.0, 1.0, 0.0, 0.0, ...  \n",
       "9856  [1.0, 0.0, 0.0, 0.0, 0.0, 0.0, 0.0, 0.0, 0.0, ...  \n",
       "9857  [0.0, 0.0, 0.0, 0.0, 0.0, 0.0, 0.0, 0.0, 1.0, ...  \n",
       "9858  [0.0, 0.0, 0.0, 0.0, 1.0, 0.0, 0.0, 1.0, 0.0, ...  \n",
       "\n",
       "[9859 rows x 5 columns]"
      ]
     },
     "execution_count": 147,
     "metadata": {},
     "output_type": "execute_result"
    }
   ],
   "source": [
    "train"
   ]
  },
  {
   "cell_type": "code",
   "execution_count": 159,
   "id": "f32697c8",
   "metadata": {},
   "outputs": [],
   "source": [
    "# pd.DataFrame(list(enumerate(label)), columns=['label_idx', 'cat_name']).to_csv('Label_ID.csv')"
   ]
  },
  {
   "cell_type": "markdown",
   "id": "aee90326",
   "metadata": {},
   "source": [
    "## Preprocessing of text"
   ]
  },
  {
   "cell_type": "code",
   "execution_count": 2,
   "id": "7e7fe0f8",
   "metadata": {},
   "outputs": [],
   "source": [
    "from nltk.corpus import stopwords\n",
    "from nltk.stem import WordNetLemmatizer\n",
    "import nltk\n",
    "import re\n",
    "import pandas as pd\n",
    "import numpy as np\n",
    "import string\n",
    "import time"
   ]
  },
  {
   "cell_type": "code",
   "execution_count": 3,
   "id": "b3946140",
   "metadata": {},
   "outputs": [],
   "source": [
    "## 建立 tokenize 步骤\n",
    "train = pd.read_pickle('Preprocessing_Train.pkl')\n",
    "\n",
    "stop_words = stopwords.words('english')\n",
    "non_neg_stop = [i for i in stop_words if \"n't\" not in i and \"no\" not in i]\n",
    "lemma = WordNetLemmatizer()\n",
    "\n",
    "\n",
    "def pos(x):\n",
    "    if x.startswith('J'):\n",
    "        return 'a'\n",
    "    elif x.startswith('V'):\n",
    "        return 'v'\n",
    "    elif x.startswith('R'):\n",
    "        return 'r'\n",
    "    else:\n",
    "        return 'n'\n",
    "    \n",
    "    \n",
    "def tok(doc, non_neg=False, lemmatized=False):\n",
    "    \n",
    "    if non_neg:\n",
    "        stop = non_neg_stop\n",
    "    else:\n",
    "        stop = stop_words\n",
    "       \n",
    "    tokens = re.split(r'\\s', doc.lower())\n",
    "    \n",
    "    if lemmatized:\n",
    "        pos_list = nltk.pos_tag(tokens)\n",
    "        tokens = list(map(lambda x: lemma.lemmatize(x[0], pos(x[1])), pos_list))    \n",
    "\n",
    "    tokens = [i for i in tokens if i not in stop]\n",
    "    tokens = [i for i in tokens if len(re.findall(r'\\w', i)) >= 2]\n",
    "    tokens = [re.findall(r\"\\w[a-zA-Z0-9.-]*\\w\", i)[0] for i in tokens if re.findall(r\"\\w[a-zA-Z0-9.-]*\\w\", i)]\n",
    "    \n",
    "    return tokens\n"
   ]
  },
  {
   "cell_type": "code",
   "execution_count": 10,
   "id": "025e088b",
   "metadata": {},
   "outputs": [
    {
     "data": {
      "text/html": [
       "<div>\n",
       "<style scoped>\n",
       "    .dataframe tbody tr th:only-of-type {\n",
       "        vertical-align: middle;\n",
       "    }\n",
       "\n",
       "    .dataframe tbody tr th {\n",
       "        vertical-align: top;\n",
       "    }\n",
       "\n",
       "    .dataframe thead th {\n",
       "        text-align: right;\n",
       "    }\n",
       "</style>\n",
       "<table border=\"1\" class=\"dataframe\">\n",
       "  <thead>\n",
       "    <tr style=\"text-align: right;\">\n",
       "      <th></th>\n",
       "      <th>id</th>\n",
       "      <th>name</th>\n",
       "    </tr>\n",
       "  </thead>\n",
       "  <tbody>\n",
       "    <tr>\n",
       "      <th>0</th>\n",
       "      <td>4772</td>\n",
       "      <td>Consent Order in the Matter of Solium Financia...</td>\n",
       "    </tr>\n",
       "    <tr>\n",
       "      <th>1</th>\n",
       "      <td>4774</td>\n",
       "      <td>Alberta Securities Commission Warns Investors ...</td>\n",
       "    </tr>\n",
       "    <tr>\n",
       "      <th>2</th>\n",
       "      <td>4775</td>\n",
       "      <td>Exempt Market Dealer Agrees to Settlement</td>\n",
       "    </tr>\n",
       "    <tr>\n",
       "      <th>3</th>\n",
       "      <td>4776</td>\n",
       "      <td>Canadian Securities Regulators Announces Consu...</td>\n",
       "    </tr>\n",
       "    <tr>\n",
       "      <th>4</th>\n",
       "      <td>4778</td>\n",
       "      <td>CSA Consultation Paper 51-405 Consideration of...</td>\n",
       "    </tr>\n",
       "    <tr>\n",
       "      <th>...</th>\n",
       "      <td>...</td>\n",
       "      <td>...</td>\n",
       "    </tr>\n",
       "    <tr>\n",
       "      <th>9854</th>\n",
       "      <td>57201</td>\n",
       "      <td>What To Do If Youre Having Difficulty Repaying...</td>\n",
       "    </tr>\n",
       "    <tr>\n",
       "      <th>9855</th>\n",
       "      <td>57207</td>\n",
       "      <td>The Bank of Russia Restricted Exchange Trading...</td>\n",
       "    </tr>\n",
       "    <tr>\n",
       "      <th>9856</th>\n",
       "      <td>57234</td>\n",
       "      <td>Application of a Pecuniary Administrative Sanc...</td>\n",
       "    </tr>\n",
       "    <tr>\n",
       "      <th>9857</th>\n",
       "      <td>57240</td>\n",
       "      <td>Investor Consultation - Investor Service Hotli...</td>\n",
       "    </tr>\n",
       "    <tr>\n",
       "      <th>9858</th>\n",
       "      <td>57252</td>\n",
       "      <td>Amendment to Contract Title of the Bursa Malay...</td>\n",
       "    </tr>\n",
       "  </tbody>\n",
       "</table>\n",
       "<p>9859 rows × 2 columns</p>\n",
       "</div>"
      ],
      "text/plain": [
       "         id                                               name\n",
       "0      4772  Consent Order in the Matter of Solium Financia...\n",
       "1      4774  Alberta Securities Commission Warns Investors ...\n",
       "2      4775          Exempt Market Dealer Agrees to Settlement\n",
       "3      4776  Canadian Securities Regulators Announces Consu...\n",
       "4      4778  CSA Consultation Paper 51-405 Consideration of...\n",
       "...     ...                                                ...\n",
       "9854  57201  What To Do If Youre Having Difficulty Repaying...\n",
       "9855  57207  The Bank of Russia Restricted Exchange Trading...\n",
       "9856  57234  Application of a Pecuniary Administrative Sanc...\n",
       "9857  57240  Investor Consultation - Investor Service Hotli...\n",
       "9858  57252  Amendment to Contract Title of the Bursa Malay...\n",
       "\n",
       "[9859 rows x 2 columns]"
      ]
     },
     "execution_count": 10,
     "metadata": {},
     "output_type": "execute_result"
    }
   ],
   "source": [
    "train[['id','name']]"
   ]
  },
  {
   "cell_type": "markdown",
   "id": "bd37a7fc",
   "metadata": {},
   "source": [
    "## TFIDF extraction"
   ]
  },
  {
   "cell_type": "code",
   "execution_count": 3,
   "id": "4d36871e",
   "metadata": {},
   "outputs": [],
   "source": [
    "from sklearn.feature_extraction.text import TfidfVectorizer\n",
    "from sklearn.model_selection import train_test_split"
   ]
  },
  {
   "cell_type": "code",
   "execution_count": 4,
   "id": "6977fde9",
   "metadata": {},
   "outputs": [],
   "source": [
    "## 分训练测试集\n",
    "X_train, X_test, y_train, y_test = train_test_split(train.document_text, train.label, test_size=0.25)"
   ]
  },
  {
   "cell_type": "code",
   "execution_count": 213,
   "id": "8fffcc49",
   "metadata": {},
   "outputs": [],
   "source": [
    "def get_voc(non_neg=True, lemmatized=True):\n",
    "    \n",
    "    voc = []\n",
    "    for i in X_train:\n",
    "        tokens = tok(i, non_neg, lemmatized)\n",
    "        voc += tokens\n",
    "        \n",
    "    voc = list(set(voc))\n",
    "    \n",
    "    return voc"
   ]
  },
  {
   "cell_type": "code",
   "execution_count": 118,
   "id": "455c0afa",
   "metadata": {},
   "outputs": [],
   "source": [
    "## 自定义词汇库以兼容此前的 token 化\n",
    "voc = get_voc()\n",
    "tfidf = TfidfVectorizer(min_df=10, vocabulary=voc)"
   ]
  },
  {
   "cell_type": "code",
   "execution_count": 122,
   "id": "7a4e2908",
   "metadata": {},
   "outputs": [],
   "source": [
    "vec_train = tfidf.fit_transform(X_train)\n",
    "vec_test = tfidf.transform(X_test)"
   ]
  },
  {
   "cell_type": "markdown",
   "id": "e16dc6a2",
   "metadata": {},
   "source": [
    "## Model Construction for TFIDF"
   ]
  },
  {
   "cell_type": "code",
   "execution_count": 157,
   "id": "646cc9e1",
   "metadata": {},
   "outputs": [],
   "source": [
    "import torch\n",
    "import torch.nn\n",
    "from torch.utils.data import DataLoader, random_split, Dataset\n",
    "from matplotlib import pyplot as plt"
   ]
  },
  {
   "cell_type": "code",
   "execution_count": 104,
   "id": "142998a3",
   "metadata": {},
   "outputs": [],
   "source": [
    "tfidf = TfidfVectorizer(min_df=10, vocabulary=get_voc())\n",
    "vec_train = tfidf.fit_transform(X_train)\n",
    "vec_test = tfidf.transform(X_test)"
   ]
  },
  {
   "cell_type": "code",
   "execution_count": 115,
   "id": "817c9355",
   "metadata": {},
   "outputs": [],
   "source": [
    "class _dataset(Dataset):\n",
    "    \n",
    "    def __init__(self, X, y):\n",
    "        super(_dataset, self).__init__()\n",
    "        self.X = torch.Tensor(X)\n",
    "        self.y = torch.Tensor(y)\n",
    "        \n",
    "    def __getitem__(self, idx):\n",
    "        return self.X[idx], self.y[idx]\n",
    "    \n",
    "    def __len__(self):\n",
    "        return len(self.X)\n",
    "    \n",
    "    \n",
    "_train = _dataset(vec_train.toarray(), list(y_train))\n",
    "_test = _dataset(vec_test.toarray(), list(y_test))"
   ]
  },
  {
   "cell_type": "code",
   "execution_count": 155,
   "id": "e898d0b2",
   "metadata": {},
   "outputs": [],
   "source": [
    "class MLP_model(nn.Module):\n",
    "    \n",
    "    def __init__(self):\n",
    "\n",
    "        super(MLP_model, self).__init__()\n",
    "        \n",
    "        self.net = nn.Sequential(\n",
    "            nn.Linear(vec_train.shape[1], 500),\n",
    "            nn.ReLU(),\n",
    "            nn.Linear(500, 200),\n",
    "            nn.ReLU(),\n",
    "            nn.Linear(200, 50),\n",
    "            nn.Sigmoid())\n",
    "\n",
    "            \n",
    "    def forward(self, x):\n",
    "        return self.net(x)"
   ]
  },
  {
   "cell_type": "code",
   "execution_count": 153,
   "id": "e8db3d5d",
   "metadata": {},
   "outputs": [],
   "source": [
    "def train_model(model, train_dataset, eval_dataset, device, \n",
    "                lr=0.0005, epochs=50, batch_size=256):\n",
    "    \n",
    "    history = {'train_loss': [], 'eval_loss': []}\n",
    "    \n",
    "    train_loader = DataLoader(train_dataset, batch_size=batch_size, shuffle=True)\n",
    "    eval_loader = DataLoader(eval_dataset, batch_size=batch_size)\n",
    "\n",
    "    model = model.to(device)\n",
    "    Loss = nn.BCELoss().to(device)\n",
    "    op = torch.optim.Adam(model.parameters(), lr=lr)\n",
    "    \n",
    "    print('Training start!')\n",
    "    start = time.time()\n",
    "    \n",
    "    for epoch in range(epochs):\n",
    "        \n",
    "        model.train()\n",
    "        train_loss = 0\n",
    "        eval_loss = 0\n",
    "        \n",
    "        for X, y in train_loader:\n",
    "            X = X.to(device)\n",
    "            y = y.to(device)\n",
    "            out = model(X)\n",
    "            loss = Loss(out, y)\n",
    "            \n",
    "            op.zero_grad()\n",
    "            loss.backward()\n",
    "            op.step()\n",
    "            \n",
    "            train_loss += loss\n",
    "            \n",
    "        model.eval()\n",
    "        with torch.no_grad():\n",
    "            for X, y in eval_loader:\n",
    "                X = X.to(device)\n",
    "                y = y.to(device)\n",
    "                out = model(X)\n",
    "                loss = Loss(out, y)\n",
    "                eval_loss += loss\n",
    "                \n",
    "        train_loss = (train_loss/len(train_loader)).item()\n",
    "        eval_loss = (eval_loss/len(eval_loader)).item() \n",
    "        \n",
    "        history['train_loss'].append(train_loss)\n",
    "        history['eval_loss'].append(eval_loss)  \n",
    "        \n",
    "    print('Training complete!')\n",
    "    print(f'Spent time: {time.time()-start} seconds')\n",
    "    \n",
    "    return history"
   ]
  },
  {
   "cell_type": "code",
   "execution_count": 156,
   "id": "f11928c5",
   "metadata": {},
   "outputs": [
    {
     "name": "stdout",
     "output_type": "stream",
     "text": [
      "Training start!\n",
      "Training complete!\n",
      "Spent time: 52.396262884140015 seconds\n"
     ]
    }
   ],
   "source": [
    "model_A = MLP_model()\n",
    "device = torch.device(\"cuda\" if torch.cuda.is_available() else \"cpu\")\n",
    "epochs = 50\n",
    "lr = (np.e)*10**-4\n",
    "batch_size = round((np.e)*50)\n",
    "hist_A = train_model(model_A, _train, _test, device, \n",
    "                lr=lr, epochs=epochs, batch_size=batch_size)"
   ]
  },
  {
   "cell_type": "code",
   "execution_count": 161,
   "id": "1ba9d6cb",
   "metadata": {},
   "outputs": [
    {
     "data": {
      "image/png": "[encoded data removed]",
      "text/plain": [
       "<Figure size 432x288 with 1 Axes>"
      ]
     },
     "metadata": {
      "needs_background": "light"
     },
     "output_type": "display_data"
    }
   ],
   "source": [
    "plt.title('Evaluation Loss')\n",
    "plt.xlabel('Epochs')\n",
    "plt.ylabel('Loss')\n",
    "plt.plot(hist_A['eval_loss']);"
   ]
  },
  {
   "cell_type": "code",
   "execution_count": 178,
   "id": "6ebdbece",
   "metadata": {},
   "outputs": [],
   "source": [
    "with torch.no_grad():\n",
    "    test = torch.Tensor(vec_test.toarray()).to(device)\n",
    "    res = model_A(test)\n",
    "    res = res.cpu()\n",
    "\n",
    "target = []\n",
    "for i in y_test.apply(list):\n",
    "    target += i\n",
    "\n",
    "acc = (torch.Tensor(target) == np.round(res).view(-1)).float().mean().item()\n",
    "print(acc)\n",
    "\n",
    "from sklearn.metrics import classification_report\n",
    "print(classification_report(target, np.round(res).view(-1)))"
   ]
  },
  {
   "cell_type": "code",
   "execution_count": null,
   "id": "507dab7c",
   "metadata": {},
   "outputs": [],
   "source": []
  },
  {
   "cell_type": "markdown",
   "id": "5ab02719",
   "metadata": {},
   "source": [
    "## Co-currence of Y"
   ]
  },
  {
   "cell_type": "code",
   "execution_count": 6,
   "id": "4db4bc23",
   "metadata": {},
   "outputs": [
    {
     "data": {
      "text/plain": [
       "6907    [0.0, 0.0, 0.0, 0.0, 0.0, 0.0, 0.0, 0.0, 0.0, ...\n",
       "5743    [1.0, 0.0, 1.0, 0.0, 0.0, 0.0, 0.0, 0.0, 0.0, ...\n",
       "3732    [0.0, 1.0, 0.0, 0.0, 0.0, 0.0, 1.0, 0.0, 0.0, ...\n",
       "7675    [1.0, 0.0, 0.0, 0.0, 0.0, 0.0, 0.0, 0.0, 0.0, ...\n",
       "9497    [0.0, 0.0, 0.0, 0.0, 0.0, 0.0, 0.0, 0.0, 0.0, ...\n",
       "                              ...                        \n",
       "6470    [1.0, 0.0, 0.0, 0.0, 0.0, 0.0, 0.0, 0.0, 0.0, ...\n",
       "7361    [0.0, 0.0, 0.0, 0.0, 0.0, 0.0, 0.0, 0.0, 0.0, ...\n",
       "6194    [1.0, 0.0, 1.0, 0.0, 0.0, 0.0, 0.0, 0.0, 0.0, ...\n",
       "1221    [0.0, 0.0, 0.0, 0.0, 0.0, 0.0, 0.0, 0.0, 0.0, ...\n",
       "1814    [0.0, 0.0, 0.0, 0.0, 0.0, 1.0, 0.0, 1.0, 1.0, ...\n",
       "Name: label, Length: 7394, dtype: object"
      ]
     },
     "execution_count": 6,
     "metadata": {},
     "output_type": "execute_result"
    }
   ],
   "source": [
    "y_train"
   ]
  },
  {
   "cell_type": "code",
   "execution_count": 7,
   "id": "4d975089",
   "metadata": {},
   "outputs": [],
   "source": [
    "label = pd.read_csv('Label_ID.csv')\n",
    "\n",
    "label = label.iloc[:,1:]"
   ]
  },
  {
   "cell_type": "code",
   "execution_count": 19,
   "id": "f0a024ab",
   "metadata": {},
   "outputs": [],
   "source": [
    "y_try = train.label_idx[y_train.index]"
   ]
  },
  {
   "cell_type": "code",
   "execution_count": 20,
   "id": "78398c65",
   "metadata": {},
   "outputs": [
    {
     "data": {
      "text/plain": [
       "6907                                             [24, 13]\n",
       "5743                   [33, 30, 2, 12, 21, 29, 26, 31, 0]\n",
       "3732                   [6, 1, 45, 18, 16, 46, 23, 12, 38]\n",
       "7675                                  [0, 38, 39, 15, 12]\n",
       "9497                                         [34, 43, 42]\n",
       "                              ...                        \n",
       "6470                                          [29, 0, 33]\n",
       "7361                         [14, 48, 42, 20, 36, 39, 29]\n",
       "6194                       [0, 14, 2, 42, 29, 33, 15, 26]\n",
       "1221                                         [29, 45, 42]\n",
       "1814    [5, 29, 8, 43, 44, 49, 36, 34, 13, 11, 47, 7, 46]\n",
       "Name: label_idx, Length: 7394, dtype: object"
      ]
     },
     "execution_count": 20,
     "metadata": {},
     "output_type": "execute_result"
    }
   ],
   "source": [
    "y_try"
   ]
  },
  {
   "cell_type": "code",
   "execution_count": 21,
   "id": "26275c17",
   "metadata": {},
   "outputs": [],
   "source": [
    "dic = {i: [] for i in range(50)}\n",
    "\n",
    "for i in range(50):\n",
    "    for j in y_try:\n",
    "        if i in j:\n",
    "            temp = j[:]\n",
    "            temp.remove(i)\n",
    "            dic[i].append(temp)"
   ]
  },
  {
   "cell_type": "code",
   "execution_count": 69,
   "id": "0e5ca1d9",
   "metadata": {},
   "outputs": [],
   "source": [
    "save = {}\n",
    "for n in range(50):\n",
    "    for i in dic:\n",
    "        for j in dic[i]:\n",
    "            if n in j:\n",
    "                if f\"{n}|{i}\" not in save:\n",
    "                    save[f\"{n}|{i}\"] = 1\n",
    "                else:\n",
    "                    save[f\"{n}|{i}\"] += 1\n",
    "                    \n",
    "\n",
    "base = [len(dic[i]) for i in dic]\n",
    "\n",
    "for i in save:\n",
    "    save[i] = save[i]/base[int(re.findall(r\"[|](\\d*)\", i)[0])]"
   ]
  },
  {
   "cell_type": "code",
   "execution_count": 92,
   "id": "ad63204a",
   "metadata": {},
   "outputs": [
    {
     "name": "stdout",
     "output_type": "stream",
     "text": [
      "[('0|15', 0.8364116094986808), ('47|49', 0.7837837837837838), ('16|32', 0.7440633245382586), ('43|34', 0.6956521739130435), ('34|43', 0.6867749419953596), ('49|47', 0.666156202143951), ('16|18', 0.6652046783625731), ('29|42', 0.6241610738255033), ('38|23', 0.5964035964035964), ('34|49', 0.5963963963963964), ('1|28', 0.5948905109489051), ('43|49', 0.581981981981982), ('39|15', 0.5804749340369393), ('24|25', 0.5579514824797843), ('34|47', 0.5436447166921899), ('25|24', 0.5425950196592398), ('20|40', 0.5382978723404256), ('43|11', 0.5323624595469255), ('48|36', 0.5308370044052864), ('29|26', 0.5279187817258884)]\n"
     ]
    }
   ],
   "source": [
    "ky = val = np.array([i for i in save])\n",
    "val = np.array([save[i] for i in save])\n",
    "\n",
    "print(list(zip(ky[val.argsort()[::-1]][:20], val[val.argsort()[::-1]][:20])))"
   ]
  },
  {
   "cell_type": "markdown",
   "id": "5c3c1303",
   "metadata": {},
   "source": [
    "## Word Embedding"
   ]
  },
  {
   "cell_type": "code",
   "execution_count": 287,
   "id": "cfe05c3c",
   "metadata": {},
   "outputs": [],
   "source": [
    "import torch\n",
    "import torch.nn as nn\n",
    "from torch.utils.data import DataLoader, random_split, Dataset\n",
    "from matplotlib import pyplot as plt"
   ]
  },
  {
   "cell_type": "code",
   "execution_count": 292,
   "id": "5bacb618",
   "metadata": {},
   "outputs": [],
   "source": [
    "def get_voc_new(X, non_neg=True, lemmatized=True):\n",
    "    \n",
    "    voc = []\n",
    "    token_list = []\n",
    "    for i in X:\n",
    "        tokens = tok(i, non_neg, lemmatized)\n",
    "        token_list.append(tokens)\n",
    "        voc += tokens\n",
    "        \n",
    "    voc = list(set(voc))\n",
    "    \n",
    "    return voc, token_list"
   ]
  },
  {
   "cell_type": "code",
   "execution_count": 216,
   "id": "576acbc3",
   "metadata": {},
   "outputs": [],
   "source": [
    "voc, tk_list = get_voc_new(X_train, False, True)\n",
    "voc_test, tk_list_test = get_voc_new(X_test, False, True)\n",
    "voc_dic = {item: idx+1 for idx, item in enumerate(voc)}"
   ]
  },
  {
   "cell_type": "code",
   "execution_count": 311,
   "id": "e491afb4",
   "metadata": {},
   "outputs": [],
   "source": [
    "def word2idx(token_list):\n",
    "    \n",
    "    token_idx = []\n",
    "    for sent in token_list:\n",
    "        sent_list = []\n",
    "        for token in sent:\n",
    "            if token in voc_dic:\n",
    "                idx = voc_dic[token]\n",
    "            else:\n",
    "                idx = 0\n",
    "            sent_list.append(idx)\n",
    "        token_idx.append(sent_list)\n",
    "\n",
    "    return token_idx"
   ]
  },
  {
   "cell_type": "code",
   "execution_count": 312,
   "id": "c7de5625",
   "metadata": {},
   "outputs": [],
   "source": [
    "tk_idx_test = word2idx(tk_list_test)\n",
    "\n",
    "tk_idx = word2idx(tk_list)"
   ]
  },
  {
   "cell_type": "code",
   "execution_count": null,
   "id": "de94d3d4",
   "metadata": {},
   "outputs": [],
   "source": [
    "class dataset_(Dataset):\n",
    "    \n",
    "    def __init__(self, X, y, max_len=1024):\n",
    "        super(dataset_, self).__init__()\n",
    "        pad = [i[:max_len] + [0]*(max_len-len(i[:max_len])) for i in X]\n",
    "        self.X = torch.tensor(pad, dtype=torch.int32)\n",
    "        self.y = torch.Tensor(list(y))\n",
    "        \n",
    "    def __getitem__(self, idx):\n",
    "        return self.X[idx], self.y[idx]\n",
    "    \n",
    "    def __len__(self):\n",
    "        return len(self.X)\n",
    "    \n",
    "    \n",
    "train_ = dataset_(tk_idx, y_train)\n",
    "test_ = dataset_(tk_idx_test, y_test)"
   ]
  },
  {
   "cell_type": "code",
   "execution_count": 286,
   "id": "c4d34e8b",
   "metadata": {},
   "outputs": [
    {
     "data": {
      "text/plain": [
       "Embedding(43787, 256, padding_idx=0)"
      ]
     },
     "execution_count": 286,
     "metadata": {},
     "output_type": "execute_result"
    }
   ],
   "source": [
    "nn.Embedding(len(voc_dic)+1, 256, 0)"
   ]
  },
  {
   "cell_type": "code",
   "execution_count": 299,
   "id": "e341f52f",
   "metadata": {},
   "outputs": [],
   "source": []
  },
  {
   "cell_type": "code",
   "execution_count": null,
   "id": "c9316656",
   "metadata": {},
   "outputs": [],
   "source": []
  }
 ],
 "metadata": {
  "kernelspec": {
   "display_name": "Python 3 (ipykernel)",
   "language": "python",
   "name": "python3"
  },
  "language_info": {
   "codemirror_mode": {
    "name": "ipython",
    "version": 3
   },
   "file_extension": ".py",
   "mimetype": "text/x-python",
   "name": "python",
   "nbconvert_exporter": "python",
   "pygments_lexer": "ipython3",
   "version": "3.9.7"
  }
 },
 "nbformat": 4,
 "nbformat_minor": 5
}
