{
 "cells": [
  {
   "cell_type": "code",
   "execution_count": 1,
   "id": "20f4ec91",
   "metadata": {},
   "outputs": [],
   "source": [
    "from nltk.corpus import stopwords\n",
    "from nltk.stem import WordNetLemmatizer\n",
    "import nltk\n",
    "import re\n",
    "import pandas as pd\n",
    "import numpy as np\n",
    "import string\n",
    "import time\n",
    "import math\n",
    "import torch\n",
    "import torch.nn as nn\n",
    "from torch.autograd import Variable\n",
    "from torch.utils.data import DataLoader, random_split, Dataset\n",
    "from matplotlib import pyplot as plt\n",
    "from sklearn.metrics import classification_report, f1_score\n",
    "from sklearn.model_selection import train_test_split\n",
    "from sklearn.feature_extraction.text import TfidfVectorizer, CountVectorizer"
   ]
  },
  {
   "cell_type": "code",
   "execution_count": 2,
   "id": "8693dbdc",
   "metadata": {},
   "outputs": [],
   "source": [
    "## Initialize needed variables and set up pipelines for tokenizations\n",
    "\n",
    "train = pd.read_pickle('Preprocessing_Train.pkl')\n",
    "\n",
    "stop_words = stopwords.words('english')\n",
    "non_neg_stop = [i for i in stop_words if \"n't\" not in i and \"no\" not in i]\n",
    "lemma = WordNetLemmatizer()\n",
    "\n",
    "\n",
    "def pos(x):\n",
    "    if x.startswith('J'):\n",
    "        return 'a'\n",
    "    elif x.startswith('V'):\n",
    "        return 'v'\n",
    "    elif x.startswith('R'):\n",
    "        return 'r'\n",
    "    else:\n",
    "        return 'n'\n",
    "    \n",
    "    \n",
    "def tok(doc, non_neg=False, lemmatized=False):\n",
    "    \n",
    "    if non_neg:\n",
    "        stop = non_neg_stop\n",
    "    else:\n",
    "        stop = stop_words\n",
    "       \n",
    "    tokens = re.split(r'\\s', doc.lower())\n",
    "    \n",
    "    if lemmatized:\n",
    "        pos_list = nltk.pos_tag(tokens)\n",
    "        tokens = list(map(lambda x: lemma.lemmatize(x[0], pos(x[1])), pos_list))    \n",
    "\n",
    "    tokens = [i for i in tokens if i not in stop]\n",
    "    tokens = [i for i in tokens if len(re.findall(r'\\w', i)) >= 2]\n",
    "    tokens = [re.findall(r\"\\w[a-zA-Z0-9.-]*\\w\", i)[0] for i in tokens if re.findall(r\"\\w[a-zA-Z0-9.-]*\\w\", i)]\n",
    "    \n",
    "    return tokens\n",
    "\n",
    "\n",
    "def get_voc_new(X, non_neg=True, lemmatized=True):\n",
    "    \n",
    "    voc = []\n",
    "    token_list = []\n",
    "    for i in X:\n",
    "        tokens = tok(i, non_neg, lemmatized)\n",
    "        token_list.append(tokens)\n",
    "        voc += tokens\n",
    "        \n",
    "    voc = list(set(voc))\n",
    "    \n",
    "    return voc, token_list"
   ]
  },
  {
   "cell_type": "code",
   "execution_count": 147,
   "id": "cb257f6c",
   "metadata": {},
   "outputs": [],
   "source": [
    "# new = pd.read_csv('new.csv')\n",
    "# target = new.sort_values('word_emb_loss', ascending=False).reset_index(drop=True).label_idx[:10]\n",
    "# target = torch.tensor(np.array(list(target)), dtype=torch.long)\n",
    "# normal = [i for i in range(50) if i not in target]"
   ]
  },
  {
   "cell_type": "code",
   "execution_count": 3,
   "id": "56cdebb8",
   "metadata": {},
   "outputs": [],
   "source": [
    "target = [8, 9, 22, 35]\n",
    "normal = [i for i in range(50) if i not in target]"
   ]
  },
  {
   "cell_type": "markdown",
   "id": "fcde2c3e",
   "metadata": {},
   "source": [
    "## Label Examinations"
   ]
  },
  {
   "cell_type": "code",
   "execution_count": 4,
   "id": "aa85dfe1",
   "metadata": {},
   "outputs": [],
   "source": [
    "## label_12 Emb 50_epochs 128_batch 3e-4_LR\n",
    "## label_29 Emb 50_epochs 128_batch 3e-4_LR\n",
    "## label_38 Emb 50_epochs 128_batch 3e-4_LR\n",
    "\n",
    "\n",
    "# train['sp_y'] = 0\n",
    "# train.loc[[i for i in range(len(train)) if 20 in train.label_idx[i]], 'sp_y'] = 1\n",
    "\n",
    "X_train, X_test, y_train, y_test = train_test_split(train.document_text, train.label, test_size=0.25)\n",
    "\n",
    "voc, tk_list_train = get_voc_new(X_train, False, True)\n",
    "voc_test, tk_list_test = get_voc_new(X_test, False, True)\n",
    "voc_dic = {item: idx+1 for idx, item in enumerate(voc)}\n",
    "\n",
    "def word2idx(token_list):\n",
    "    \n",
    "    token_idx = []\n",
    "    for sent in token_list:\n",
    "        sent_list = []\n",
    "        for token in sent:\n",
    "            if token in voc_dic:\n",
    "                idx = voc_dic[token]\n",
    "            else:\n",
    "                idx = 0\n",
    "            sent_list.append(idx)\n",
    "        token_idx.append(sent_list)\n",
    "\n",
    "    return token_idx\n",
    "\n",
    "\n",
    "tk_idx_train = word2idx(tk_list_train)\n",
    "tk_idx_test = word2idx(tk_list_test)"
   ]
  },
  {
   "cell_type": "markdown",
   "id": "e9b53c35",
   "metadata": {},
   "source": [
    "### TFIDF"
   ]
  },
  {
   "cell_type": "code",
   "execution_count": 8,
   "id": "8fbe9b0d",
   "metadata": {},
   "outputs": [],
   "source": [
    "tfidf = TfidfVectorizer(vocabulary=voc)\n",
    "vec_train = tfidf.fit_transform(X_train)\n",
    "vec_test = tfidf.transform(X_test)\n",
    "\n",
    "class _dataset(Dataset):\n",
    "    \n",
    "    def __init__(self, X, y):\n",
    "        super(_dataset, self).__init__()\n",
    "        self.X = torch.Tensor(X)\n",
    "        self.y = torch.Tensor(y)\n",
    "        \n",
    "    def __getitem__(self, idx):\n",
    "        return self.X[idx], self.y[idx]\n",
    "    \n",
    "    def __len__(self):\n",
    "        return len(self.X)\n",
    "    \n",
    "    \n",
    "_train = _dataset(vec_train.toarray(), np.array(list(y_train))[:,target])\n",
    "_test = _dataset(vec_test.toarray(), np.array(list(y_test))[:,target])"
   ]
  },
  {
   "cell_type": "code",
   "execution_count": 9,
   "id": "7b971667",
   "metadata": {},
   "outputs": [],
   "source": [
    "class MLP_model(nn.Module):\n",
    "    \n",
    "    def __init__(self):\n",
    "\n",
    "        super(MLP_model, self).__init__()\n",
    "        \n",
    "        self.net = nn.Sequential(\n",
    "            nn.Linear(vec_train.shape[1], 500),\n",
    "            nn.ReLU(),\n",
    "            nn.Linear(500, 4),\n",
    "            nn.Sigmoid())\n",
    "\n",
    "            \n",
    "    def forward(self, x):\n",
    "        return self.net(x)"
   ]
  },
  {
   "cell_type": "code",
   "execution_count": 16,
   "id": "fb4bae62",
   "metadata": {},
   "outputs": [],
   "source": [
    "def train_model(model, train_dataset, eval_dataset, device, norm=0.5,\n",
    "                lr=0.0005, epochs=50, batch_size=256):\n",
    "    \n",
    "    history = {'train_loss': [], 'eval_loss': [], 'detail_train': [], 'detail_eval': []}\n",
    "    \n",
    "    train_loader = DataLoader(train_dataset, batch_size=batch_size, shuffle=True)\n",
    "    eval_loader = DataLoader(eval_dataset, batch_size=batch_size)\n",
    "\n",
    "    model = model.to(device)\n",
    "    save_loss = nn.BCELoss(reduction='none').to(device)\n",
    "    \n",
    "    if norm:\n",
    "        Loss = nn.BCELoss(weight=train_.y.sum(axis=0)**-norm).to(device)\n",
    "\n",
    "    else:\n",
    "        Loss = nn.BCELoss().to(device)\n",
    "        \n",
    "    op = torch.optim.Adam(model.parameters(), lr=lr)\n",
    "    \n",
    "    print('Training start!')\n",
    "    start = time.time()\n",
    "    \n",
    "    for epoch in range(epochs):\n",
    "        \n",
    "        model.train()\n",
    "        train_loss = 0\n",
    "        eval_loss = 0\n",
    "        detail_train = torch.zeros(4).to(device)\n",
    "        detail_eval = torch.zeros(4).to(device)\n",
    "        pred = []\n",
    "        real = []\n",
    "        \n",
    "        for X, y in train_loader:\n",
    "            X = X.to(device)\n",
    "            y = y.to(device)\n",
    "            out = model(X)\n",
    "            loss = Loss(out, y)\n",
    "            save_train = save_loss(out, y).sum(0)\n",
    "            \n",
    "            op.zero_grad()\n",
    "            loss.backward()\n",
    "            op.step()\n",
    "            \n",
    "            train_loss += loss\n",
    "            detail_train += save_train\n",
    "            \n",
    "        model.eval()\n",
    "        with torch.no_grad():\n",
    "            for X, y in eval_loader:\n",
    "                X = X.to(device)\n",
    "                y = y.to(device)\n",
    "                out = model(X)\n",
    "                loss = Loss(out, y)\n",
    "                save_eval = save_loss(out, y).sum(0)\n",
    "                detail_eval += save_eval\n",
    "                eval_loss += loss\n",
    "                pred.append(out.cpu())\n",
    "                real.append(y.cpu())\n",
    "                \n",
    "        train_loss = (train_loss/len(train_loader)).item()\n",
    "        eval_loss = (eval_loss/len(eval_loader)).item() \n",
    "        \n",
    "        history['train_loss'].append(train_loss)\n",
    "        history['eval_loss'].append(eval_loss)  \n",
    "        history['detail_train'].append(detail_train.cpu().detach())\n",
    "        history['detail_eval'].append(detail_eval.cpu().detach())  \n",
    "        \n",
    "        if not (epoch+1)%10:\n",
    "            res = torch.cat(pred)\n",
    "            tru = torch.cat(real)\n",
    "            print(f\"epoch {epoch+1}\\ntrain loss: {train_loss}\\t\\teval loss: {eval_loss}\")\n",
    "            print(classification_report(tru, np.round(res), target_names=['8','9','22','35']))\n",
    "            print(f'\\nSpent time: {time.time()-start} seconds')\n",
    "\n",
    "    print('Training complete!')\n",
    "    \n",
    "    return history"
   ]
  },
  {
   "cell_type": "code",
   "execution_count": 18,
   "id": "9c1244eb",
   "metadata": {
    "scrolled": true
   },
   "outputs": [
    {
     "name": "stdout",
     "output_type": "stream",
     "text": [
      "Training start!\n",
      "epoch 10\n",
      "train loss: 0.12687931954860687\t\teval loss: 0.1841101050376892\n",
      "              precision    recall  f1-score   support\n",
      "\n",
      "           8       0.97      0.25      0.40       140\n",
      "           9       0.83      0.36      0.51       207\n",
      "          22       0.75      0.25      0.37       214\n",
      "          35       0.85      0.15      0.26       191\n",
      "\n",
      "   micro avg       0.83      0.26      0.39       752\n",
      "   macro avg       0.85      0.25      0.38       752\n",
      "weighted avg       0.84      0.26      0.38       752\n",
      " samples avg       0.07      0.07      0.07       752\n",
      "\n",
      "\n",
      "Spent time: 8.53262996673584 seconds\n"
     ]
    },
    {
     "name": "stderr",
     "output_type": "stream",
     "text": [
      "D:\\Anaconda\\lib\\site-packages\\sklearn\\metrics\\_classification.py:1248: UndefinedMetricWarning: Precision and F-score are ill-defined and being set to 0.0 in samples with no predicted labels. Use `zero_division` parameter to control this behavior.\n",
      "  _warn_prf(average, modifier, msg_start, len(result))\n",
      "D:\\Anaconda\\lib\\site-packages\\sklearn\\metrics\\_classification.py:1248: UndefinedMetricWarning: Recall and F-score are ill-defined and being set to 0.0 in samples with no true labels. Use `zero_division` parameter to control this behavior.\n",
      "  _warn_prf(average, modifier, msg_start, len(result))\n"
     ]
    },
    {
     "name": "stdout",
     "output_type": "stream",
     "text": [
      "epoch 20\n",
      "train loss: 0.03746761009097099\t\teval loss: 0.17212775349617004\n",
      "              precision    recall  f1-score   support\n",
      "\n",
      "           8       0.85      0.40      0.54       140\n",
      "           9       0.76      0.54      0.63       207\n",
      "          22       0.74      0.40      0.52       214\n",
      "          35       0.84      0.40      0.54       191\n",
      "\n",
      "   micro avg       0.78      0.44      0.56       752\n",
      "   macro avg       0.80      0.44      0.56       752\n",
      "weighted avg       0.79      0.44      0.56       752\n",
      " samples avg       0.12      0.12      0.12       752\n",
      "\n",
      "\n",
      "Spent time: 16.205969095230103 seconds\n"
     ]
    },
    {
     "name": "stderr",
     "output_type": "stream",
     "text": [
      "D:\\Anaconda\\lib\\site-packages\\sklearn\\metrics\\_classification.py:1248: UndefinedMetricWarning: Precision and F-score are ill-defined and being set to 0.0 in samples with no predicted labels. Use `zero_division` parameter to control this behavior.\n",
      "  _warn_prf(average, modifier, msg_start, len(result))\n",
      "D:\\Anaconda\\lib\\site-packages\\sklearn\\metrics\\_classification.py:1248: UndefinedMetricWarning: Recall and F-score are ill-defined and being set to 0.0 in samples with no true labels. Use `zero_division` parameter to control this behavior.\n",
      "  _warn_prf(average, modifier, msg_start, len(result))\n"
     ]
    },
    {
     "name": "stdout",
     "output_type": "stream",
     "text": [
      "epoch 30\n",
      "train loss: 0.014790186658501625\t\teval loss: 0.18988846242427826\n",
      "              precision    recall  f1-score   support\n",
      "\n",
      "           8       0.82      0.42      0.56       140\n",
      "           9       0.75      0.56      0.64       207\n",
      "          22       0.74      0.43      0.54       214\n",
      "          35       0.79      0.47      0.59       191\n",
      "\n",
      "   micro avg       0.77      0.47      0.59       752\n",
      "   macro avg       0.78      0.47      0.58       752\n",
      "weighted avg       0.77      0.47      0.58       752\n",
      " samples avg       0.13      0.13      0.13       752\n",
      "\n",
      "\n",
      "Spent time: 24.292951107025146 seconds\n"
     ]
    },
    {
     "name": "stderr",
     "output_type": "stream",
     "text": [
      "D:\\Anaconda\\lib\\site-packages\\sklearn\\metrics\\_classification.py:1248: UndefinedMetricWarning: Precision and F-score are ill-defined and being set to 0.0 in samples with no predicted labels. Use `zero_division` parameter to control this behavior.\n",
      "  _warn_prf(average, modifier, msg_start, len(result))\n",
      "D:\\Anaconda\\lib\\site-packages\\sklearn\\metrics\\_classification.py:1248: UndefinedMetricWarning: Recall and F-score are ill-defined and being set to 0.0 in samples with no true labels. Use `zero_division` parameter to control this behavior.\n",
      "  _warn_prf(average, modifier, msg_start, len(result))\n"
     ]
    },
    {
     "name": "stdout",
     "output_type": "stream",
     "text": [
      "epoch 40\n",
      "train loss: 0.00743523333221674\t\teval loss: 0.21019554138183594\n",
      "              precision    recall  f1-score   support\n",
      "\n",
      "           8       0.78      0.43      0.55       140\n",
      "           9       0.73      0.58      0.65       207\n",
      "          22       0.74      0.46      0.56       214\n",
      "          35       0.78      0.48      0.60       191\n",
      "\n",
      "   micro avg       0.75      0.49      0.59       752\n",
      "   macro avg       0.76      0.49      0.59       752\n",
      "weighted avg       0.75      0.49      0.59       752\n",
      " samples avg       0.13      0.13      0.13       752\n",
      "\n",
      "\n",
      "Spent time: 32.3054940700531 seconds\n"
     ]
    },
    {
     "name": "stderr",
     "output_type": "stream",
     "text": [
      "D:\\Anaconda\\lib\\site-packages\\sklearn\\metrics\\_classification.py:1248: UndefinedMetricWarning: Precision and F-score are ill-defined and being set to 0.0 in samples with no predicted labels. Use `zero_division` parameter to control this behavior.\n",
      "  _warn_prf(average, modifier, msg_start, len(result))\n",
      "D:\\Anaconda\\lib\\site-packages\\sklearn\\metrics\\_classification.py:1248: UndefinedMetricWarning: Recall and F-score are ill-defined and being set to 0.0 in samples with no true labels. Use `zero_division` parameter to control this behavior.\n",
      "  _warn_prf(average, modifier, msg_start, len(result))\n"
     ]
    },
    {
     "name": "stdout",
     "output_type": "stream",
     "text": [
      "epoch 50\n",
      "train loss: 0.004296730738133192\t\teval loss: 0.22815079987049103\n",
      "              precision    recall  f1-score   support\n",
      "\n",
      "           8       0.77      0.43      0.55       140\n",
      "           9       0.73      0.60      0.66       207\n",
      "          22       0.73      0.46      0.57       214\n",
      "          35       0.77      0.49      0.60       191\n",
      "\n",
      "   micro avg       0.75      0.50      0.60       752\n",
      "   macro avg       0.75      0.49      0.59       752\n",
      "weighted avg       0.75      0.50      0.60       752\n",
      " samples avg       0.14      0.14      0.14       752\n",
      "\n",
      "\n",
      "Spent time: 40.44130873680115 seconds\n"
     ]
    },
    {
     "name": "stderr",
     "output_type": "stream",
     "text": [
      "D:\\Anaconda\\lib\\site-packages\\sklearn\\metrics\\_classification.py:1248: UndefinedMetricWarning: Precision and F-score are ill-defined and being set to 0.0 in samples with no predicted labels. Use `zero_division` parameter to control this behavior.\n",
      "  _warn_prf(average, modifier, msg_start, len(result))\n",
      "D:\\Anaconda\\lib\\site-packages\\sklearn\\metrics\\_classification.py:1248: UndefinedMetricWarning: Recall and F-score are ill-defined and being set to 0.0 in samples with no true labels. Use `zero_division` parameter to control this behavior.\n",
      "  _warn_prf(average, modifier, msg_start, len(result))\n"
     ]
    },
    {
     "name": "stdout",
     "output_type": "stream",
     "text": [
      "epoch 60\n",
      "train loss: 0.00272409338504076\t\teval loss: 0.24534745514392853\n",
      "              precision    recall  f1-score   support\n",
      "\n",
      "           8       0.76      0.42      0.54       140\n",
      "           9       0.73      0.60      0.66       207\n",
      "          22       0.71      0.46      0.56       214\n",
      "          35       0.76      0.50      0.61       191\n",
      "\n",
      "   micro avg       0.74      0.50      0.60       752\n",
      "   macro avg       0.74      0.50      0.59       752\n",
      "weighted avg       0.74      0.50      0.60       752\n",
      " samples avg       0.14      0.14      0.14       752\n",
      "\n",
      "\n",
      "Spent time: 48.6833872795105 seconds\n"
     ]
    },
    {
     "name": "stderr",
     "output_type": "stream",
     "text": [
      "D:\\Anaconda\\lib\\site-packages\\sklearn\\metrics\\_classification.py:1248: UndefinedMetricWarning: Precision and F-score are ill-defined and being set to 0.0 in samples with no predicted labels. Use `zero_division` parameter to control this behavior.\n",
      "  _warn_prf(average, modifier, msg_start, len(result))\n",
      "D:\\Anaconda\\lib\\site-packages\\sklearn\\metrics\\_classification.py:1248: UndefinedMetricWarning: Recall and F-score are ill-defined and being set to 0.0 in samples with no true labels. Use `zero_division` parameter to control this behavior.\n",
      "  _warn_prf(average, modifier, msg_start, len(result))\n"
     ]
    },
    {
     "name": "stdout",
     "output_type": "stream",
     "text": [
      "epoch 70\n",
      "train loss: 0.0018371965270489454\t\teval loss: 0.25935983657836914\n",
      "              precision    recall  f1-score   support\n",
      "\n",
      "           8       0.76      0.44      0.55       140\n",
      "           9       0.71      0.61      0.65       207\n",
      "          22       0.70      0.47      0.56       214\n",
      "          35       0.75      0.51      0.61       191\n",
      "\n",
      "   micro avg       0.73      0.51      0.60       752\n",
      "   macro avg       0.73      0.50      0.59       752\n",
      "weighted avg       0.73      0.51      0.60       752\n",
      " samples avg       0.14      0.14      0.14       752\n",
      "\n",
      "\n",
      "Spent time: 56.939802169799805 seconds\n"
     ]
    },
    {
     "name": "stderr",
     "output_type": "stream",
     "text": [
      "D:\\Anaconda\\lib\\site-packages\\sklearn\\metrics\\_classification.py:1248: UndefinedMetricWarning: Precision and F-score are ill-defined and being set to 0.0 in samples with no predicted labels. Use `zero_division` parameter to control this behavior.\n",
      "  _warn_prf(average, modifier, msg_start, len(result))\n",
      "D:\\Anaconda\\lib\\site-packages\\sklearn\\metrics\\_classification.py:1248: UndefinedMetricWarning: Recall and F-score are ill-defined and being set to 0.0 in samples with no true labels. Use `zero_division` parameter to control this behavior.\n",
      "  _warn_prf(average, modifier, msg_start, len(result))\n"
     ]
    },
    {
     "name": "stdout",
     "output_type": "stream",
     "text": [
      "epoch 80\n",
      "train loss: 0.001316784298978746\t\teval loss: 0.2746187448501587\n",
      "              precision    recall  f1-score   support\n",
      "\n",
      "           8       0.74      0.44      0.55       140\n",
      "           9       0.72      0.60      0.66       207\n",
      "          22       0.71      0.47      0.56       214\n",
      "          35       0.75      0.51      0.61       191\n",
      "\n",
      "   micro avg       0.73      0.51      0.60       752\n",
      "   macro avg       0.73      0.51      0.60       752\n",
      "weighted avg       0.73      0.51      0.60       752\n",
      " samples avg       0.14      0.14      0.14       752\n",
      "\n",
      "\n",
      "Spent time: 64.7425148487091 seconds\n"
     ]
    },
    {
     "name": "stderr",
     "output_type": "stream",
     "text": [
      "D:\\Anaconda\\lib\\site-packages\\sklearn\\metrics\\_classification.py:1248: UndefinedMetricWarning: Precision and F-score are ill-defined and being set to 0.0 in samples with no predicted labels. Use `zero_division` parameter to control this behavior.\n",
      "  _warn_prf(average, modifier, msg_start, len(result))\n",
      "D:\\Anaconda\\lib\\site-packages\\sklearn\\metrics\\_classification.py:1248: UndefinedMetricWarning: Recall and F-score are ill-defined and being set to 0.0 in samples with no true labels. Use `zero_division` parameter to control this behavior.\n",
      "  _warn_prf(average, modifier, msg_start, len(result))\n"
     ]
    },
    {
     "name": "stdout",
     "output_type": "stream",
     "text": [
      "epoch 90\n",
      "train loss: 0.0009666095720604062\t\teval loss: 0.2891922891139984\n",
      "              precision    recall  f1-score   support\n",
      "\n",
      "           8       0.75      0.44      0.56       140\n",
      "           9       0.71      0.61      0.66       207\n",
      "          22       0.71      0.47      0.56       214\n",
      "          35       0.75      0.50      0.60       191\n",
      "\n",
      "   micro avg       0.72      0.51      0.60       752\n",
      "   macro avg       0.73      0.51      0.59       752\n",
      "weighted avg       0.73      0.51      0.60       752\n",
      " samples avg       0.14      0.14      0.14       752\n",
      "\n",
      "\n",
      "Spent time: 72.92806625366211 seconds\n"
     ]
    },
    {
     "name": "stderr",
     "output_type": "stream",
     "text": [
      "D:\\Anaconda\\lib\\site-packages\\sklearn\\metrics\\_classification.py:1248: UndefinedMetricWarning: Precision and F-score are ill-defined and being set to 0.0 in samples with no predicted labels. Use `zero_division` parameter to control this behavior.\n",
      "  _warn_prf(average, modifier, msg_start, len(result))\n",
      "D:\\Anaconda\\lib\\site-packages\\sklearn\\metrics\\_classification.py:1248: UndefinedMetricWarning: Recall and F-score are ill-defined and being set to 0.0 in samples with no true labels. Use `zero_division` parameter to control this behavior.\n",
      "  _warn_prf(average, modifier, msg_start, len(result))\n"
     ]
    },
    {
     "name": "stdout",
     "output_type": "stream",
     "text": [
      "epoch 100\n",
      "train loss: 0.00069808354601264\t\teval loss: 0.30222970247268677\n",
      "              precision    recall  f1-score   support\n",
      "\n",
      "           8       0.74      0.46      0.57       140\n",
      "           9       0.72      0.61      0.66       207\n",
      "          22       0.70      0.47      0.56       214\n",
      "          35       0.74      0.50      0.60       191\n",
      "\n",
      "   micro avg       0.73      0.51      0.60       752\n",
      "   macro avg       0.73      0.51      0.60       752\n",
      "weighted avg       0.73      0.51      0.60       752\n",
      " samples avg       0.14      0.14      0.14       752\n",
      "\n",
      "\n",
      "Spent time: 80.91079092025757 seconds\n"
     ]
    },
    {
     "name": "stderr",
     "output_type": "stream",
     "text": [
      "D:\\Anaconda\\lib\\site-packages\\sklearn\\metrics\\_classification.py:1248: UndefinedMetricWarning: Precision and F-score are ill-defined and being set to 0.0 in samples with no predicted labels. Use `zero_division` parameter to control this behavior.\n",
      "  _warn_prf(average, modifier, msg_start, len(result))\n",
      "D:\\Anaconda\\lib\\site-packages\\sklearn\\metrics\\_classification.py:1248: UndefinedMetricWarning: Recall and F-score are ill-defined and being set to 0.0 in samples with no true labels. Use `zero_division` parameter to control this behavior.\n",
      "  _warn_prf(average, modifier, msg_start, len(result))\n"
     ]
    },
    {
     "name": "stdout",
     "output_type": "stream",
     "text": [
      "epoch 110\n",
      "train loss: 0.0005464975838549435\t\teval loss: 0.31504160165786743\n",
      "              precision    recall  f1-score   support\n",
      "\n",
      "           8       0.74      0.44      0.55       140\n",
      "           9       0.72      0.61      0.66       207\n",
      "          22       0.71      0.47      0.57       214\n",
      "          35       0.73      0.51      0.60       191\n",
      "\n",
      "   micro avg       0.72      0.51      0.60       752\n",
      "   macro avg       0.72      0.51      0.59       752\n",
      "weighted avg       0.72      0.51      0.60       752\n",
      " samples avg       0.14      0.14      0.14       752\n",
      "\n",
      "\n",
      "Spent time: 88.86527609825134 seconds\n"
     ]
    },
    {
     "name": "stderr",
     "output_type": "stream",
     "text": [
      "D:\\Anaconda\\lib\\site-packages\\sklearn\\metrics\\_classification.py:1248: UndefinedMetricWarning: Precision and F-score are ill-defined and being set to 0.0 in samples with no predicted labels. Use `zero_division` parameter to control this behavior.\n",
      "  _warn_prf(average, modifier, msg_start, len(result))\n",
      "D:\\Anaconda\\lib\\site-packages\\sklearn\\metrics\\_classification.py:1248: UndefinedMetricWarning: Recall and F-score are ill-defined and being set to 0.0 in samples with no true labels. Use `zero_division` parameter to control this behavior.\n",
      "  _warn_prf(average, modifier, msg_start, len(result))\n"
     ]
    },
    {
     "name": "stdout",
     "output_type": "stream",
     "text": [
      "epoch 120\n",
      "train loss: 0.0004363387997727841\t\teval loss: 0.32890528440475464\n",
      "              precision    recall  f1-score   support\n",
      "\n",
      "           8       0.74      0.44      0.55       140\n",
      "           9       0.71      0.61      0.66       207\n",
      "          22       0.71      0.48      0.57       214\n",
      "          35       0.74      0.50      0.60       191\n",
      "\n",
      "   micro avg       0.72      0.51      0.60       752\n",
      "   macro avg       0.72      0.51      0.60       752\n",
      "weighted avg       0.72      0.51      0.60       752\n",
      " samples avg       0.14      0.14      0.14       752\n",
      "\n",
      "\n",
      "Spent time: 96.54434776306152 seconds\n"
     ]
    },
    {
     "name": "stderr",
     "output_type": "stream",
     "text": [
      "D:\\Anaconda\\lib\\site-packages\\sklearn\\metrics\\_classification.py:1248: UndefinedMetricWarning: Precision and F-score are ill-defined and being set to 0.0 in samples with no predicted labels. Use `zero_division` parameter to control this behavior.\n",
      "  _warn_prf(average, modifier, msg_start, len(result))\n",
      "D:\\Anaconda\\lib\\site-packages\\sklearn\\metrics\\_classification.py:1248: UndefinedMetricWarning: Recall and F-score are ill-defined and being set to 0.0 in samples with no true labels. Use `zero_division` parameter to control this behavior.\n",
      "  _warn_prf(average, modifier, msg_start, len(result))\n"
     ]
    },
    {
     "name": "stdout",
     "output_type": "stream",
     "text": [
      "epoch 130\n",
      "train loss: 0.0003594110021367669\t\teval loss: 0.33904606103897095\n",
      "              precision    recall  f1-score   support\n",
      "\n",
      "           8       0.74      0.44      0.55       140\n",
      "           9       0.71      0.63      0.67       207\n",
      "          22       0.71      0.48      0.57       214\n",
      "          35       0.73      0.51      0.60       191\n",
      "\n",
      "   micro avg       0.72      0.52      0.61       752\n",
      "   macro avg       0.72      0.52      0.60       752\n",
      "weighted avg       0.72      0.52      0.60       752\n",
      " samples avg       0.14      0.14      0.14       752\n",
      "\n",
      "\n",
      "Spent time: 104.20122528076172 seconds\n"
     ]
    },
    {
     "name": "stderr",
     "output_type": "stream",
     "text": [
      "D:\\Anaconda\\lib\\site-packages\\sklearn\\metrics\\_classification.py:1248: UndefinedMetricWarning: Precision and F-score are ill-defined and being set to 0.0 in samples with no predicted labels. Use `zero_division` parameter to control this behavior.\n",
      "  _warn_prf(average, modifier, msg_start, len(result))\n",
      "D:\\Anaconda\\lib\\site-packages\\sklearn\\metrics\\_classification.py:1248: UndefinedMetricWarning: Recall and F-score are ill-defined and being set to 0.0 in samples with no true labels. Use `zero_division` parameter to control this behavior.\n",
      "  _warn_prf(average, modifier, msg_start, len(result))\n"
     ]
    },
    {
     "name": "stdout",
     "output_type": "stream",
     "text": [
      "epoch 140\n",
      "train loss: 0.00027695397147908807\t\teval loss: 0.3534655272960663\n",
      "              precision    recall  f1-score   support\n",
      "\n",
      "           8       0.74      0.44      0.55       140\n",
      "           9       0.71      0.62      0.66       207\n",
      "          22       0.71      0.48      0.57       214\n",
      "          35       0.74      0.51      0.61       191\n",
      "\n",
      "   micro avg       0.72      0.52      0.60       752\n",
      "   macro avg       0.72      0.51      0.60       752\n",
      "weighted avg       0.72      0.52      0.60       752\n",
      " samples avg       0.14      0.14      0.14       752\n",
      "\n",
      "\n",
      "Spent time: 111.86912727355957 seconds\n"
     ]
    },
    {
     "name": "stderr",
     "output_type": "stream",
     "text": [
      "D:\\Anaconda\\lib\\site-packages\\sklearn\\metrics\\_classification.py:1248: UndefinedMetricWarning: Precision and F-score are ill-defined and being set to 0.0 in samples with no predicted labels. Use `zero_division` parameter to control this behavior.\n",
      "  _warn_prf(average, modifier, msg_start, len(result))\n",
      "D:\\Anaconda\\lib\\site-packages\\sklearn\\metrics\\_classification.py:1248: UndefinedMetricWarning: Recall and F-score are ill-defined and being set to 0.0 in samples with no true labels. Use `zero_division` parameter to control this behavior.\n",
      "  _warn_prf(average, modifier, msg_start, len(result))\n"
     ]
    },
    {
     "name": "stdout",
     "output_type": "stream",
     "text": [
      "epoch 150\n",
      "train loss: 0.00021367974113672972\t\teval loss: 0.3635195791721344\n",
      "              precision    recall  f1-score   support\n",
      "\n",
      "           8       0.74      0.46      0.56       140\n",
      "           9       0.71      0.61      0.65       207\n",
      "          22       0.70      0.48      0.57       214\n",
      "          35       0.72      0.51      0.60       191\n",
      "\n",
      "   micro avg       0.71      0.52      0.60       752\n",
      "   macro avg       0.71      0.52      0.60       752\n",
      "weighted avg       0.71      0.52      0.60       752\n",
      " samples avg       0.14      0.14      0.14       752\n",
      "\n",
      "\n",
      "Spent time: 119.56717348098755 seconds\n"
     ]
    },
    {
     "name": "stderr",
     "output_type": "stream",
     "text": [
      "D:\\Anaconda\\lib\\site-packages\\sklearn\\metrics\\_classification.py:1248: UndefinedMetricWarning: Precision and F-score are ill-defined and being set to 0.0 in samples with no predicted labels. Use `zero_division` parameter to control this behavior.\n",
      "  _warn_prf(average, modifier, msg_start, len(result))\n",
      "D:\\Anaconda\\lib\\site-packages\\sklearn\\metrics\\_classification.py:1248: UndefinedMetricWarning: Recall and F-score are ill-defined and being set to 0.0 in samples with no true labels. Use `zero_division` parameter to control this behavior.\n",
      "  _warn_prf(average, modifier, msg_start, len(result))\n"
     ]
    },
    {
     "name": "stdout",
     "output_type": "stream",
     "text": [
      "epoch 160\n",
      "train loss: 0.00017630444199312478\t\teval loss: 0.3737742602825165\n",
      "              precision    recall  f1-score   support\n",
      "\n",
      "           8       0.74      0.45      0.56       140\n",
      "           9       0.71      0.63      0.67       207\n",
      "          22       0.70      0.48      0.57       214\n",
      "          35       0.70      0.52      0.60       191\n",
      "\n",
      "   micro avg       0.71      0.53      0.60       752\n",
      "   macro avg       0.71      0.52      0.60       752\n",
      "weighted avg       0.71      0.53      0.60       752\n",
      " samples avg       0.14      0.14      0.14       752\n",
      "\n",
      "\n",
      "Spent time: 127.27380895614624 seconds\n"
     ]
    },
    {
     "name": "stderr",
     "output_type": "stream",
     "text": [
      "D:\\Anaconda\\lib\\site-packages\\sklearn\\metrics\\_classification.py:1248: UndefinedMetricWarning: Precision and F-score are ill-defined and being set to 0.0 in samples with no predicted labels. Use `zero_division` parameter to control this behavior.\n",
      "  _warn_prf(average, modifier, msg_start, len(result))\n",
      "D:\\Anaconda\\lib\\site-packages\\sklearn\\metrics\\_classification.py:1248: UndefinedMetricWarning: Recall and F-score are ill-defined and being set to 0.0 in samples with no true labels. Use `zero_division` parameter to control this behavior.\n",
      "  _warn_prf(average, modifier, msg_start, len(result))\n"
     ]
    },
    {
     "name": "stdout",
     "output_type": "stream",
     "text": [
      "epoch 170\n",
      "train loss: 0.0001465530804125592\t\teval loss: 0.385273277759552\n",
      "              precision    recall  f1-score   support\n",
      "\n",
      "           8       0.74      0.46      0.56       140\n",
      "           9       0.71      0.62      0.66       207\n",
      "          22       0.69      0.48      0.57       214\n",
      "          35       0.70      0.52      0.60       191\n",
      "\n",
      "   micro avg       0.71      0.53      0.60       752\n",
      "   macro avg       0.71      0.52      0.60       752\n",
      "weighted avg       0.71      0.53      0.60       752\n",
      " samples avg       0.14      0.14      0.14       752\n",
      "\n",
      "\n",
      "Spent time: 134.90728569030762 seconds\n"
     ]
    },
    {
     "name": "stderr",
     "output_type": "stream",
     "text": [
      "D:\\Anaconda\\lib\\site-packages\\sklearn\\metrics\\_classification.py:1248: UndefinedMetricWarning: Precision and F-score are ill-defined and being set to 0.0 in samples with no predicted labels. Use `zero_division` parameter to control this behavior.\n",
      "  _warn_prf(average, modifier, msg_start, len(result))\n",
      "D:\\Anaconda\\lib\\site-packages\\sklearn\\metrics\\_classification.py:1248: UndefinedMetricWarning: Recall and F-score are ill-defined and being set to 0.0 in samples with no true labels. Use `zero_division` parameter to control this behavior.\n",
      "  _warn_prf(average, modifier, msg_start, len(result))\n"
     ]
    },
    {
     "name": "stdout",
     "output_type": "stream",
     "text": [
      "epoch 180\n",
      "train loss: 0.00014885785640217364\t\teval loss: 0.3982761800289154\n",
      "              precision    recall  f1-score   support\n",
      "\n",
      "           8       0.71      0.46      0.56       140\n",
      "           9       0.70      0.60      0.65       207\n",
      "          22       0.69      0.48      0.57       214\n",
      "          35       0.70      0.51      0.59       191\n",
      "\n",
      "   micro avg       0.70      0.52      0.60       752\n",
      "   macro avg       0.70      0.51      0.59       752\n",
      "weighted avg       0.70      0.52      0.59       752\n",
      " samples avg       0.14      0.14      0.14       752\n",
      "\n",
      "\n",
      "Spent time: 142.62059807777405 seconds\n"
     ]
    },
    {
     "name": "stderr",
     "output_type": "stream",
     "text": [
      "D:\\Anaconda\\lib\\site-packages\\sklearn\\metrics\\_classification.py:1248: UndefinedMetricWarning: Precision and F-score are ill-defined and being set to 0.0 in samples with no predicted labels. Use `zero_division` parameter to control this behavior.\n",
      "  _warn_prf(average, modifier, msg_start, len(result))\n",
      "D:\\Anaconda\\lib\\site-packages\\sklearn\\metrics\\_classification.py:1248: UndefinedMetricWarning: Recall and F-score are ill-defined and being set to 0.0 in samples with no true labels. Use `zero_division` parameter to control this behavior.\n",
      "  _warn_prf(average, modifier, msg_start, len(result))\n"
     ]
    },
    {
     "name": "stdout",
     "output_type": "stream",
     "text": [
      "epoch 190\n",
      "train loss: 0.00012023749150102958\t\teval loss: 0.4186060428619385\n",
      "              precision    recall  f1-score   support\n",
      "\n",
      "           8       0.71      0.46      0.56       140\n",
      "           9       0.69      0.60      0.65       207\n",
      "          22       0.68      0.49      0.57       214\n",
      "          35       0.71      0.51      0.60       191\n",
      "\n",
      "   micro avg       0.70      0.52      0.60       752\n",
      "   macro avg       0.70      0.52      0.59       752\n",
      "weighted avg       0.70      0.52      0.59       752\n",
      " samples avg       0.14      0.14      0.14       752\n",
      "\n",
      "\n",
      "Spent time: 150.26898455619812 seconds\n"
     ]
    },
    {
     "name": "stderr",
     "output_type": "stream",
     "text": [
      "D:\\Anaconda\\lib\\site-packages\\sklearn\\metrics\\_classification.py:1248: UndefinedMetricWarning: Precision and F-score are ill-defined and being set to 0.0 in samples with no predicted labels. Use `zero_division` parameter to control this behavior.\n",
      "  _warn_prf(average, modifier, msg_start, len(result))\n",
      "D:\\Anaconda\\lib\\site-packages\\sklearn\\metrics\\_classification.py:1248: UndefinedMetricWarning: Recall and F-score are ill-defined and being set to 0.0 in samples with no true labels. Use `zero_division` parameter to control this behavior.\n",
      "  _warn_prf(average, modifier, msg_start, len(result))\n"
     ]
    },
    {
     "name": "stdout",
     "output_type": "stream",
     "text": [
      "epoch 200\n",
      "train loss: 0.00013751180085819215\t\teval loss: 0.4317695200443268\n",
      "              precision    recall  f1-score   support\n",
      "\n",
      "           8       0.72      0.45      0.56       140\n",
      "           9       0.70      0.60      0.65       207\n",
      "          22       0.68      0.49      0.57       214\n",
      "          35       0.71      0.50      0.59       191\n",
      "\n",
      "   micro avg       0.70      0.52      0.60       752\n",
      "   macro avg       0.71      0.51      0.59       752\n",
      "weighted avg       0.70      0.52      0.59       752\n",
      " samples avg       0.14      0.14      0.14       752\n",
      "\n",
      "\n",
      "Spent time: 157.95133996009827 seconds\n",
      "Training complete!\n"
     ]
    },
    {
     "name": "stderr",
     "output_type": "stream",
     "text": [
      "D:\\Anaconda\\lib\\site-packages\\sklearn\\metrics\\_classification.py:1248: UndefinedMetricWarning: Precision and F-score are ill-defined and being set to 0.0 in samples with no predicted labels. Use `zero_division` parameter to control this behavior.\n",
      "  _warn_prf(average, modifier, msg_start, len(result))\n",
      "D:\\Anaconda\\lib\\site-packages\\sklearn\\metrics\\_classification.py:1248: UndefinedMetricWarning: Recall and F-score are ill-defined and being set to 0.0 in samples with no true labels. Use `zero_division` parameter to control this behavior.\n",
      "  _warn_prf(average, modifier, msg_start, len(result))\n"
     ]
    },
    {
     "data": {
      "image/png": "[encoded data removed]",
      "text/plain": [
       "<Figure size 432x288 with 1 Axes>"
      ]
     },
     "metadata": {
      "needs_background": "light"
     },
     "output_type": "display_data"
    }
   ],
   "source": [
    "# [8, 9, 22, 35]\n",
    "mod = MLP_model()\n",
    "device = torch.device(\"cuda\" if torch.cuda.is_available() else \"cpu\")\n",
    "epochs = 200\n",
    "lr = 3e-4\n",
    "batch_size = 128\n",
    "norm = None\n",
    "\n",
    "hist = train_model(mod, _train, _test, device, norm,\n",
    "                lr=lr, epochs=epochs, batch_size=batch_size)\n",
    "\n",
    "plt.title('Loss')\n",
    "plt.xlabel('Epochs')\n",
    "plt.ylabel('Loss')\n",
    "plt.plot(hist['train_loss'], label='Train')\n",
    "\n",
    "plt.xlabel('Epochs')\n",
    "plt.ylabel('Loss')\n",
    "plt.plot(hist['eval_loss'], label='Eval')\n",
    "plt.legend();"
   ]
  },
  {
   "cell_type": "code",
   "execution_count": null,
   "id": "3ee5343a",
   "metadata": {},
   "outputs": [],
   "source": []
  },
  {
   "cell_type": "code",
   "execution_count": null,
   "id": "b5f338c2",
   "metadata": {},
   "outputs": [],
   "source": []
  },
  {
   "cell_type": "markdown",
   "id": "0acd9ced",
   "metadata": {},
   "source": [
    "### Embedding"
   ]
  },
  {
   "cell_type": "code",
   "execution_count": 163,
   "id": "28f17594",
   "metadata": {},
   "outputs": [],
   "source": [
    "class dataset_(Dataset):\n",
    "    \n",
    "    def __init__(self, X, y, max_len=1024):\n",
    "        super(dataset_, self).__init__()\n",
    "        pad = [i[:max_len] + [0]*(max_len-len(i[:max_len])) for i in X]\n",
    "        self.X = torch.tensor(pad, dtype=torch.int32)\n",
    "        self.y = torch.Tensor(np.array(list(y)))\n",
    "        \n",
    "    def __getitem__(self, idx):\n",
    "        return self.X[idx], self.y[idx]\n",
    "    \n",
    "    def __len__(self):\n",
    "        return len(self.X)\n",
    "    \n",
    "    \n",
    "train_ = dataset_(tk_idx_train, y_train)\n",
    "test_ = dataset_(tk_idx_test, y_test)"
   ]
  },
  {
   "cell_type": "code",
   "execution_count": 164,
   "id": "8d392681",
   "metadata": {},
   "outputs": [],
   "source": [
    "class Att(nn.Module):\n",
    "    \n",
    "    def __init__(self, dim_emb=256):\n",
    "        super(Att, self).__init__()\n",
    "        self.Wq = nn.Linear(dim_emb, 1, bias=False)\n",
    "        self.Wk = nn.Linear(dim_emb, dim_emb, bias=False)\n",
    "        self.Wv = nn.Linear(dim_emb, dim_emb, bias=False)\n",
    "\n",
    "    def forward(self, x):\n",
    "        K = self.Wk(x) \n",
    "        V = self.Wv(x)\n",
    "        temp = self.Wq(K) \n",
    "        score = temp.transpose(-2, -1) / math.sqrt(K.size(-1)) ## (50, 1200)\n",
    "        return torch.matmul(nn.Softmax(dim=-1)(score), V)\n",
    "\n",
    "\n",
    "class final_model(nn.Module):\n",
    "    \n",
    "    def __init__(self, voc_size=len(voc)+1, dim_emb=256):\n",
    "        super(final_model, self).__init__()\n",
    "        self.net = nn.Sequential(\n",
    "            nn.Embedding(voc_size, dim_emb, padding_idx=0),\n",
    "            nn.Dropout(0.5),\n",
    "            Att(dim_emb),  ## (50, dim_emb)\n",
    "            nn.Linear(dim_emb, 256),\n",
    "            nn.ReLU(),\n",
    "            nn.Linear(256, 128),\n",
    "            nn.ReLU(),\n",
    "            nn.Linear(128, 64),\n",
    "            nn.ReLU(),\n",
    "            nn.Linear(64, 1),\n",
    "            nn.Sigmoid())\n",
    "            \n",
    "    def forward(self, x):\n",
    "        return self.net(x)"
   ]
  },
  {
   "cell_type": "code",
   "execution_count": 165,
   "id": "7ccd52eb",
   "metadata": {},
   "outputs": [],
   "source": [
    "def train_model(model, train_dataset, eval_dataset, device, norm=0.5,\n",
    "                lr=0.0005, epochs=50, batch_size=256):\n",
    "    \n",
    "    history = {'train_loss': [], 'eval_loss': [], 'train_acc': [], 'eval_acc': []}\n",
    "    \n",
    "    train_loader = DataLoader(train_dataset, batch_size=batch_size, shuffle=True)\n",
    "    eval_loader = DataLoader(eval_dataset, batch_size=batch_size)\n",
    "\n",
    "    model = model.to(device)\n",
    "    \n",
    "    if norm:\n",
    "        Loss = nn.BCELoss(weight=train_.y.sum(axis=0)**-norm).to(device)\n",
    "\n",
    "    else:\n",
    "        Loss = nn.BCELoss().to(device)\n",
    "        \n",
    "    op = torch.optim.Adam(model.parameters(), lr=lr)\n",
    "    \n",
    "    print('Training start!')\n",
    "    start = time.time()\n",
    "    \n",
    "    for epoch in range(epochs):\n",
    "        \n",
    "        model.train()\n",
    "        train_loss = 0\n",
    "        eval_loss = 0\n",
    "        train_acc = 0\n",
    "        eval_acc = 0\n",
    "        pred = []\n",
    "        real = []\n",
    "        \n",
    "        for X, y in train_loader:\n",
    "            X = X.to(device)\n",
    "            y = y.to(device)\n",
    "            out = model(X).view(-1)\n",
    "            loss = Loss(out, y)\n",
    "            acc = (np.round(out.cpu().detach()) == y.cpu()).float().mean().item()\n",
    "            \n",
    "            \n",
    "            op.zero_grad()\n",
    "            loss.backward()\n",
    "            op.step()\n",
    "            \n",
    "            train_loss += loss\n",
    "            train_acc += acc\n",
    "            \n",
    "        model.eval()\n",
    "        with torch.no_grad():\n",
    "            for X, y in eval_loader:\n",
    "                X = X.to(device)\n",
    "                y = y.to(device)\n",
    "                out = model(X).view(-1)\n",
    "                loss = Loss(out, y)\n",
    "                acc = (np.round(out.cpu().detach()) == y.cpu()).float().mean().item()\n",
    "\n",
    "                eval_loss += loss\n",
    "                eval_acc += acc\n",
    "                pred.append(out.cpu())\n",
    "                real.append(y.cpu())\n",
    "                \n",
    "        train_loss = (train_loss/len(train_loader)).item()\n",
    "        eval_loss = (eval_loss/len(eval_loader)).item() \n",
    "        train_acc = train_acc/len(train_loader)\n",
    "        eval_acc = eval_acc/len(eval_loader) \n",
    "        \n",
    "        history['train_loss'].append(train_loss)\n",
    "        history['eval_loss'].append(eval_loss)  \n",
    "        history['train_acc'].append(train_acc)\n",
    "        history['eval_acc'].append(eval_acc)  \n",
    "        \n",
    "        if not (epoch+1)%50:\n",
    "            res = torch.cat(pred)\n",
    "            tru = torch.cat(real)\n",
    "            print(f'\\nepoch {epoch+1}:\\n')\n",
    "            print(f\"Accuracy: {np.mean(history['eval_acc'][-5:])}\")\n",
    "            print(classification_report(tru.view(-1), np.round(res).view(-1)))\n",
    "            print(f'\\nSpent time: {time.time()-start} seconds')\n",
    "            \n",
    "        \n",
    "    print('Training complete!')\n",
    "    \n",
    "    \n",
    "    return history"
   ]
  },
  {
   "cell_type": "code",
   "execution_count": 166,
   "id": "d683dc9d",
   "metadata": {
    "scrolled": true
   },
   "outputs": [
    {
     "name": "stdout",
     "output_type": "stream",
     "text": [
      "Training start!\n",
      "\n",
      "epoch 50:\n",
      "\n",
      "Accuracy: 0.9335321968793868\n",
      "              precision    recall  f1-score   support\n",
      "\n",
      "         0.0       0.95      0.97      0.96      2135\n",
      "         1.0       0.79      0.67      0.73       330\n",
      "\n",
      "    accuracy                           0.93      2465\n",
      "   macro avg       0.87      0.82      0.84      2465\n",
      "weighted avg       0.93      0.93      0.93      2465\n",
      "\n",
      "\n",
      "Spent time: 68.80704665184021 seconds\n",
      "\n",
      "epoch 100:\n",
      "\n",
      "Accuracy: 0.9354071968793869\n",
      "              precision    recall  f1-score   support\n",
      "\n",
      "         0.0       0.95      0.97      0.96      2135\n",
      "         1.0       0.79      0.70      0.74       330\n",
      "\n",
      "    accuracy                           0.94      2465\n",
      "   macro avg       0.87      0.84      0.85      2465\n",
      "weighted avg       0.93      0.94      0.93      2465\n",
      "\n",
      "\n",
      "Spent time: 137.55657744407654 seconds\n",
      "\n",
      "epoch 150:\n",
      "\n",
      "Accuracy: 0.9333759468793869\n",
      "              precision    recall  f1-score   support\n",
      "\n",
      "         0.0       0.95      0.97      0.96      2135\n",
      "         1.0       0.78      0.70      0.74       330\n",
      "\n",
      "    accuracy                           0.93      2465\n",
      "   macro avg       0.87      0.83      0.85      2465\n",
      "weighted avg       0.93      0.93      0.93      2465\n",
      "\n",
      "\n",
      "Spent time: 206.41951179504395 seconds\n",
      "\n",
      "epoch 200:\n",
      "\n",
      "Accuracy: 0.935172821879387\n",
      "              precision    recall  f1-score   support\n",
      "\n",
      "         0.0       0.95      0.97      0.96      2135\n",
      "         1.0       0.80      0.69      0.74       330\n",
      "\n",
      "    accuracy                           0.94      2465\n",
      "   macro avg       0.88      0.83      0.85      2465\n",
      "weighted avg       0.93      0.94      0.93      2465\n",
      "\n",
      "\n",
      "Spent time: 275.29525542259216 seconds\n",
      "Training complete!\n"
     ]
    },
    {
     "data": {
      "image/png": "[encoded data removed]",
      "text/plain": [
       "<Figure size 432x288 with 1 Axes>"
      ]
     },
     "metadata": {
      "needs_background": "light"
     },
     "output_type": "display_data"
    }
   ],
   "source": [
    "## 3-layer ReLU\n",
    "mod = final_model()\n",
    "device = torch.device(\"cuda\" if torch.cuda.is_available() else \"cpu\")\n",
    "epochs = 200\n",
    "lr = 3e-4 \n",
    "batch_size = 128\n",
    "norm = None\n",
    "hist = train_model(mod, train_, test_, device, norm,\n",
    "                lr=lr, epochs=epochs, batch_size=batch_size)\n",
    "\n",
    "plt.title('Loss')\n",
    "plt.xlabel('Epochs')\n",
    "plt.ylabel('Loss')\n",
    "plt.plot(hist['train_loss'], label='Train')\n",
    "\n",
    "plt.xlabel('Epochs')\n",
    "plt.ylabel('Loss')\n",
    "plt.plot(hist['eval_loss'], label='Eval')\n",
    "plt.legend();"
   ]
  },
  {
   "cell_type": "code",
   "execution_count": null,
   "id": "ae95edae",
   "metadata": {},
   "outputs": [],
   "source": []
  },
  {
   "cell_type": "code",
   "execution_count": 167,
   "id": "e84c8435",
   "metadata": {
    "scrolled": true
   },
   "outputs": [
    {
     "name": "stdout",
     "output_type": "stream",
     "text": [
      "Training start!\n",
      "\n",
      "epoch 50:\n",
      "\n",
      "Accuracy: 0.933044508099556\n",
      "              precision    recall  f1-score   support\n",
      "\n",
      "         0.0       0.95      0.97      0.96      2135\n",
      "         1.0       0.79      0.65      0.72       330\n",
      "\n",
      "    accuracy                           0.93      2465\n",
      "   macro avg       0.87      0.81      0.84      2465\n",
      "weighted avg       0.93      0.93      0.93      2465\n",
      "\n",
      "\n",
      "Spent time: 39.97839951515198 seconds\n",
      "Training complete!\n"
     ]
    },
    {
     "data": {
      "image/png": "[encoded data removed]",
      "text/plain": [
       "<Figure size 432x288 with 1 Axes>"
      ]
     },
     "metadata": {
      "needs_background": "light"
     },
     "output_type": "display_data"
    }
   ],
   "source": [
    "## 1-layer ReLU TFIDF\n",
    "mod = MLP_model()\n",
    "device = torch.device(\"cuda\" if torch.cuda.is_available() else \"cpu\")\n",
    "epochs = 50\n",
    "lr = 3e-4 \n",
    "batch_size = 128\n",
    "norm = None\n",
    "hist = train_model(mod, _train, _test, device, norm,\n",
    "                lr=lr, epochs=epochs, batch_size=batch_size)\n",
    "\n",
    "plt.title('Loss')\n",
    "plt.xlabel('Epochs')\n",
    "plt.ylabel('Loss')\n",
    "plt.plot(hist['train_loss'], label='Train')\n",
    "\n",
    "plt.xlabel('Epochs')\n",
    "plt.ylabel('Loss')\n",
    "plt.plot(hist['eval_loss'], label='Eval')\n",
    "plt.legend();"
   ]
  },
  {
   "cell_type": "code",
   "execution_count": null,
   "id": "3217fda0",
   "metadata": {},
   "outputs": [],
   "source": []
  }
 ],
 "metadata": {
  "kernelspec": {
   "display_name": "Python 3 (ipykernel)",
   "language": "python",
   "name": "python3"
  },
  "language_info": {
   "codemirror_mode": {
    "name": "ipython",
    "version": 3
   },
   "file_extension": ".py",
   "mimetype": "text/x-python",
   "name": "python",
   "nbconvert_exporter": "python",
   "pygments_lexer": "ipython3",
   "version": "3.9.7"
  }
 },
 "nbformat": 4,
 "nbformat_minor": 5
}
